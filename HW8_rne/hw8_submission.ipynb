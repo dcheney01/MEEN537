{
 "cells": [
  {
   "cell_type": "code",
   "execution_count": 3,
   "metadata": {},
   "outputs": [
    {
     "name": "stdout",
     "output_type": "stream",
     "text": [
      "[[ 0.     -0.4518 -0.02    0.      0.      0.    ]\n",
      " [ 0.4518  0.      0.      0.      0.      0.    ]\n",
      " [ 0.15   -1.0318 -1.0318  0.     -0.6     0.    ]\n",
      " [-1.     -0.     -0.     -1.     -0.     -1.    ]\n",
      " [ 0.     -1.     -1.      0.     -1.      0.    ]\n",
      " [ 0.      0.      0.      0.      0.      0.    ]]\n"
     ]
    }
   ],
   "source": [
    "# 1 ===========================================================\n",
    "import sys\n",
    "sys.path.append(\"C:/Users/danie/Documents/School/MEEN537/HW\")\n",
    "sys.path.append(\"/home/daniel/Documents/MEEN537/HW/\")\n",
    "import kinematics as kin\n",
    "# from visualization import VizScene\n",
    "import sympy as sp\n",
    "import numpy as np\n",
    "import time\n",
    "np.set_printoptions(precision=4, suppress=True)\n",
    "\n",
    "# Define the arm\n",
    "dh = [[0, 0, 0, np.pi/2.0],\n",
    "      [0, 0, 0.4318, 0],\n",
    "      [0, 0.15, 0.02, -np.pi/2],\n",
    "      [0, 0.4318, 0, np.pi/2],\n",
    "      [0, 0, 0, -np.pi/2],\n",
    "      [0, 0.4, 0, 0]]\n",
    "\n",
    "jt_types = ['r']*6\n",
    "T_tool_in_6 = np.array([[0,  0, 1, 0], \n",
    "                        [0,  1, 0, 0], \n",
    "                        [-1, 0, 0, 0.2], \n",
    "                        [0,  0, 0, 1]])\n",
    "\n",
    "arm = kin.SerialArm(dh, jt=jt_types, tip=T_tool_in_6)\n",
    "q0 = [0]*6\n",
    "\n",
    "# using FK to get rotation from 0 to 6 \n",
    "T_6_in_0 = arm.fk(q0)\n",
    "\n",
    "# finding rotation to describe transfrom to take Jacobian in frame zero, to the tool frame \n",
    "# (indices should cancel to give J a \"tool\" superscript)\n",
    "R_0_in_6 = T_6_in_0[0:3,0:3].T\n",
    "R_6_in_tool = T_tool_in_6[0:3,0:3].T\n",
    "\n",
    "# finding the vector from frame 6 to tool, buit in the tool frame\n",
    "p_from_6_to_tool_in_frame_6 = T_tool_in_6[0:3,3]\n",
    "\n",
    "Z_0_in_6_from_6_to_6 = arm.Z_shift(R=R_0_in_6)\n",
    "Z_6_in_tool_from_6_to_tool = arm.Z_shift(R=R_6_in_tool, p=p_from_6_to_tool_in_frame_6, p_frame='i')\n",
    "\n",
    "J_at_6_in_frame_0 = arm.jacob(q0)\n",
    "\n",
    "# shifting the Jacobian, in two steps because it's easier this way.\n",
    "J_at_tool_in_tool_frame = Z_6_in_tool_from_6_to_tool @ Z_0_in_6_from_6_to_6 @ J_at_6_in_frame_0\n",
    "\n",
    "\n",
    "\n",
    "print(J_at_tool_in_tool_frame)\n",
    "\n",
    "# See how the velocities compare for J in tool at tool and J in base frame at end effector\n",
    "# qdot = np.array([1,0,0,0,0,0])\n",
    "\n",
    "# print(J_06 @ qdot)\n",
    "# print()\n",
    "# print(J_tooltool @ qdot)\n"
   ]
  },
  {
   "cell_type": "code",
   "execution_count": null,
   "metadata": {},
   "outputs": [],
   "source": [
    "import sys\n",
    "sys.path.append(\"C:/Users/danie/Documents/School/MEEN537/HW\")\n",
    "sys.path.append(\"/home/daniel/Documents/MEEN537/HW/\")\n",
    "import kinematics as kin\n",
    "# from visualization import VizScene\n",
    "import sympy as sp\n",
    "import numpy as np\n",
    "import dynamics as dyn\n",
    "\n",
    "dh = [[0, 0, 0.4, 0],\n",
    "      [0, 0, 0.4, 0],\n",
    "      [0, 0, 0.4, 0]]\n",
    "\n",
    "n = 3\n",
    "jt_types = ['r'] * n\n",
    "link_mass = [1] * n   # kg per link\n",
    "r_coms = [np.array([-0.2, 0, 0])] * n\n",
    "Izz = 0.1\n",
    "\n",
    "link_inertias = []\n",
    "for i in range(n):\n",
    "      link_inertias.append(np.array([[0, 0, 0], [0, 0, 0], [0, 0, 0.01]]))\n",
    "\n",
    "arm = dyn.SerialArmDyn(dh,\n",
    "                        jt=jt_types,\n",
    "                        mass=link_mass,\n",
    "                        r_com=r_coms,\n",
    "                        link_inertia=link_inertias)\n",
    "\n",
    "q = [np.pi/4.0]*n\n",
    "qd = [np.pi/6, -np.pi/4, np.pi/3]\n",
    "qdd = [-np.pi/6, np.pi/3, np.pi/6]\n",
    "arm.rne(q, qd, qdd)"
   ]
  }
 ],
 "metadata": {
  "kernelspec": {
   "display_name": "Python 3",
   "language": "python",
   "name": "python3"
  },
  "language_info": {
   "codemirror_mode": {
    "name": "ipython",
    "version": 3
   },
   "file_extension": ".py",
   "mimetype": "text/x-python",
   "name": "python",
   "nbconvert_exporter": "python",
   "pygments_lexer": "ipython3",
   "version": "3.8.10 (default, Nov 14 2022, 12:59:47) \n[GCC 9.4.0]"
  },
  "orig_nbformat": 4,
  "vscode": {
   "interpreter": {
    "hash": "916dbcbb3f70747c44a77c7bcd40155683ae19c65e1c03b4aa3499c5328201f1"
   }
  }
 },
 "nbformat": 4,
 "nbformat_minor": 2
}
