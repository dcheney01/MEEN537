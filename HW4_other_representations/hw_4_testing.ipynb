{
 "cells": [
  {
   "cell_type": "code",
   "execution_count": 15,
   "metadata": {},
   "outputs": [],
   "source": [
    "import sys\n",
    "sys.path.append(\"/home/daniel/software/MEEN537/\")\n",
    "import transforms as tr\n",
    "import numpy as np\n",
    "np.set_printoptions(precision=4, suppress=True)\n",
    "\n",
    "from pyrsistent import thaw\n",
    "import sympy as sp\n",
    "from sympy import cos, sin\n",
    "from sympy import init_printing\n",
    "from IPython.display import Math, display\n",
    "init_printing(use_latex=True)"
   ]
  },
  {
   "cell_type": "code",
   "execution_count": 14,
   "metadata": {},
   "outputs": [
    {
     "name": "stdout",
     "output_type": "stream",
     "text": [
      "Rotation matrix: \n",
      "Rotation Matrix:\n",
      "⎡ 0.9995    -0.0137   0.02741⎤\n",
      "⎢                            ⎥\n",
      "⎢0.01371    0.9999       0   ⎥\n",
      "⎢                            ⎥\n",
      "⎣-0.02741  0.0003757  0.9996 ⎦\n",
      "\n",
      "Axis Angle Representation: \n",
      "\n",
      "⎡0.0306513446120007 ⎤\n",
      "⎢                   ⎥\n",
      "⎢0.00613034571536137⎥\n",
      "⎢                   ⎥\n",
      "⎢ 0.894418787365125 ⎥\n",
      "⎢                   ⎥\n",
      "⎣ 0.447188384990034 ⎦\n",
      "\n",
      "Quaternion Representation:\n",
      "\n",
      "⎡ 0.999882564182785 ⎤\n",
      "⎢                   ⎥\n",
      "⎢9.39479918220824e-5⎥\n",
      "⎢                   ⎥\n",
      "⎢0.0137070326487558 ⎥\n",
      "⎢                   ⎥\n",
      "⎣0.00685319436464316⎦\n"
     ]
    }
   ],
   "source": [
    "# HW 2a\n",
    "\n",
    "# R is a rotation of 90 degrees about y0 followed by a rotation of 45 degrees about z1\n",
    "R = tr.roty(np.pi / 180 * 90) @ tr.rotz(np.pi / 180 * 45)\n",
    "R_object = tr.SO3(R)\n",
    "print(f\"Rotation matrix: \\n{R_object.R}\")\n",
    "\n",
    "print(\"\\nAxis Angle Representation: \\n\")\n",
    "sp.pprint(R_object.axis())\n",
    "\n",
    "# HW 2b\n",
    "print(\"\\nQuaternion Representation:\\n\")\n",
    "sp.pprint(R_object.quaternion())"
   ]
  },
  {
   "cell_type": "code",
   "execution_count": 16,
   "metadata": {},
   "outputs": [
    {
     "data": {
      "text/latex": [
       "$\\displaystyle \\left[\\begin{matrix}\\cos{\\left(\\psi \\right)} \\cos{\\left(\\theta \\right)} & \\sin{\\left(\\phi \\right)} \\sin{\\left(\\theta \\right)} \\cos{\\left(\\psi \\right)} - \\sin{\\left(\\psi \\right)} \\cos{\\left(\\phi \\right)} & \\sin{\\left(\\phi \\right)} \\sin{\\left(\\psi \\right)} + \\sin{\\left(\\theta \\right)} \\cos{\\left(\\phi \\right)} \\cos{\\left(\\psi \\right)}\\\\\\sin{\\left(\\psi \\right)} \\cos{\\left(\\theta \\right)} & \\sin{\\left(\\phi \\right)} \\sin{\\left(\\psi \\right)} \\sin{\\left(\\theta \\right)} + \\cos{\\left(\\phi \\right)} \\cos{\\left(\\psi \\right)} & - \\sin{\\left(\\phi \\right)} \\cos{\\left(\\psi \\right)} + \\sin{\\left(\\psi \\right)} \\sin{\\left(\\theta \\right)} \\cos{\\left(\\phi \\right)}\\\\- \\sin{\\left(\\theta \\right)} & \\sin{\\left(\\phi \\right)} \\cos{\\left(\\theta \\right)} & \\cos{\\left(\\phi \\right)} \\cos{\\left(\\theta \\right)}\\end{matrix}\\right]$"
      ],
      "text/plain": [
       "⎡cos(ψ)⋅cos(θ)  sin(φ)⋅sin(θ)⋅cos(ψ) - sin(ψ)⋅cos(φ)  sin(φ)⋅sin(ψ) + sin(θ)⋅c\n",
       "⎢                                                                             \n",
       "⎢sin(ψ)⋅cos(θ)  sin(φ)⋅sin(ψ)⋅sin(θ) + cos(φ)⋅cos(ψ)  -sin(φ)⋅cos(ψ) + sin(ψ)⋅\n",
       "⎢                                                                             \n",
       "⎣   -sin(θ)                sin(φ)⋅cos(θ)                          cos(φ)⋅cos(θ\n",
       "\n",
       "os(φ)⋅cos(ψ) ⎤\n",
       "             ⎥\n",
       "sin(θ)⋅cos(φ)⎥\n",
       "             ⎥\n",
       ")            ⎦"
      ]
     },
     "metadata": {},
     "output_type": "display_data"
    },
    {
     "data": {
      "text/latex": [
       "$\\displaystyle \\left[\\begin{matrix}\\sin{\\left(\\phi \\right)} \\sin{\\left(\\psi \\right)} + \\sin{\\left(\\theta \\right)} \\cos{\\left(\\phi \\right)} \\cos{\\left(\\psi \\right)}\\\\- \\sin{\\left(\\phi \\right)} \\cos{\\left(\\psi \\right)} + \\sin{\\left(\\psi \\right)} \\sin{\\left(\\theta \\right)} \\cos{\\left(\\phi \\right)}\\\\\\cos{\\left(\\phi \\right)} \\cos{\\left(\\theta \\right)}\\end{matrix}\\right]$"
      ],
      "text/plain": [
       "⎡sin(φ)⋅sin(ψ) + sin(θ)⋅cos(φ)⋅cos(ψ) ⎤\n",
       "⎢                                     ⎥\n",
       "⎢-sin(φ)⋅cos(ψ) + sin(ψ)⋅sin(θ)⋅cos(φ)⎥\n",
       "⎢                                     ⎥\n",
       "⎣            cos(φ)⋅cos(θ)            ⎦"
      ]
     },
     "metadata": {},
     "output_type": "display_data"
    }
   ],
   "source": [
    "# HW 3\n",
    "th, phi, psi = sp.symbols('theta, phi, psi')\n",
    "\n",
    "Rzpsi = sp.Matrix([[cos(psi), -sin(psi), 0],\n",
    "                  [sin(psi),  cos(psi),  0],\n",
    "                  [0,         0,         1]])\n",
    "\n",
    "Ryth = sp.Matrix([[cos(th),  0,       sin(th)],\n",
    "                  [0,        1,       0],\n",
    "                  [-sin(th), 0,       cos(th)]])\n",
    "\n",
    "Rxphi = sp.Matrix([ [1, 0,        0],\n",
    "                    [0, cos(phi), -sin(phi)],\n",
    "                    [0, sin(phi), cos(phi)]])\n",
    "\n",
    "\n",
    "R_final = Rzpsi @ Ryth @ Rxphi\n",
    "\n",
    "unit_vector_in_z = sp.Matrix([0,0,1])\n",
    "\n",
    "transformed_unit_vector = R_final @ unit_vector_in_z\n",
    "\n",
    "R_final = sp.trigsimp(sp.simplify(R_final.evalf()))\n",
    "display(R_final)\n",
    "display(sp.trigsimp(sp.simplify(transformed_unit_vector.evalf())))\n"
   ]
  }
 ],
 "metadata": {
  "kernelspec": {
   "display_name": "Python 3",
   "language": "python",
   "name": "python3"
  },
  "language_info": {
   "codemirror_mode": {
    "name": "ipython",
    "version": 3
   },
   "file_extension": ".py",
   "mimetype": "text/x-python",
   "name": "python",
   "nbconvert_exporter": "python",
   "pygments_lexer": "ipython3",
   "version": "3.8.10 (default, Nov 14 2022, 12:59:47) \n[GCC 9.4.0]"
  },
  "orig_nbformat": 4,
  "vscode": {
   "interpreter": {
    "hash": "916dbcbb3f70747c44a77c7bcd40155683ae19c65e1c03b4aa3499c5328201f1"
   }
  }
 },
 "nbformat": 4,
 "nbformat_minor": 2
}
