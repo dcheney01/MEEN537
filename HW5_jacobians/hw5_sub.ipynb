{
 "cells": [
  {
   "cell_type": "code",
   "execution_count": 1,
   "metadata": {},
   "outputs": [],
   "source": [
    "import sympy as sp\n",
    "from sympy import cos, sin\n",
    "from sympy import init_printing\n",
    "from IPython.display import Math, display\n",
    "init_printing(use_latex=True)\n",
    "\n",
    "def rotx_sym(th):\n",
    "    R = sp.Matrix([[1, 0, 0],\n",
    "                  [0, sp.cos(th), -sp.sin(th)],\n",
    "                  [0, sp.sin(th), sp.cos(th)]])\n",
    "    return R\n",
    "def roty_sym(th):\n",
    "    R = sp.Matrix([[sp.cos(th), 0, sp.sin(th)],\n",
    "                   [0, 1, 0],\n",
    "                   [-sp.sin(th), 0, sp.cos(th)]])\n",
    "    return R\n",
    "def rotz_sym(th):\n",
    "    R = sp.Matrix([[sp.cos(th), -sp.sin(th), 0],\n",
    "                   [sp.sin(th), sp.cos(th), 0],\n",
    "                   [0, 0, 1]])\n",
    "    return R\n",
    "\n",
    "# making a symbolic SE3 function\n",
    "def se3_sym(R = sp.eye(3), p = sp.Matrix([[0], [0], [0]])):\n",
    "\n",
    "    T = sp.eye(4)\n",
    "    T[0:3, 0:3] = R\n",
    "    T[0:3, 3] = p\n",
    "    \n",
    "    return T\n",
    "\n",
    "def get_A_sym(dh, jt_type = 'r', q=sp.Symbol('q')):\n",
    "    if jt_type == 'r':\n",
    "        A = se3_sym(R = rotz_sym(dh[0]+q)) @\\\n",
    "            se3_sym(p = sp.Matrix([[0], [0], [dh[1]]])) @\\\n",
    "            se3_sym(p = sp.Matrix([[dh[2]], [0], [0]])) @\\\n",
    "            se3_sym(R = rotx_sym(dh[3]))\n",
    "    elif jt_type == 'p':\n",
    "        A = se3_sym(R = rotz_sym(dh[0])) @\\\n",
    "            se3_sym(p = sp.Matrix([[0], [0], [dh[1]+q]])) @\\\n",
    "            se3_sym(p = sp.Matrix([[dh[2]], [0], [0]])) @\\\n",
    "            se3_sym(R = rotx_sym(dh[3]))\n",
    "    else:\n",
    "        A = None\n",
    "\n",
    "    return A"
   ]
  },
  {
   "cell_type": "code",
   "execution_count": 2,
   "metadata": {},
   "outputs": [
    {
     "data": {
      "text/latex": [
       "$\\displaystyle \\left[\\begin{matrix}\\cos{\\left(q_{1} \\right)} \\cos{\\left(q_{2} \\right)} & - \\sin{\\left(q_{2} \\right)} \\cos{\\left(q_{1} \\right)} & \\sin{\\left(q_{1} \\right)} & a_{2} \\cos{\\left(q_{1} \\right)} \\cos{\\left(q_{2} \\right)}\\\\\\sin{\\left(q_{1} \\right)} \\cos{\\left(q_{2} \\right)} & - \\sin{\\left(q_{1} \\right)} \\sin{\\left(q_{2} \\right)} & - \\cos{\\left(q_{1} \\right)} & a_{2} \\sin{\\left(q_{1} \\right)} \\cos{\\left(q_{2} \\right)}\\\\\\sin{\\left(q_{2} \\right)} & \\cos{\\left(q_{2} \\right)} & 0 & a_{2} \\sin{\\left(q_{2} \\right)} + d_{1}\\\\0 & 0 & 0 & 1.0\\end{matrix}\\right]$"
      ],
      "text/plain": [
       "⎡cos(q₁)⋅cos(q₂)  -sin(q₂)⋅cos(q₁)  sin(q₁)   a₂⋅cos(q₁)⋅cos(q₂)⎤\n",
       "⎢                                                               ⎥\n",
       "⎢sin(q₁)⋅cos(q₂)  -sin(q₁)⋅sin(q₂)  -cos(q₁)  a₂⋅sin(q₁)⋅cos(q₂)⎥\n",
       "⎢                                                               ⎥\n",
       "⎢    sin(q₂)          cos(q₂)          0       a₂⋅sin(q₂) + d₁  ⎥\n",
       "⎢                                                               ⎥\n",
       "⎣       0                0             0             1.0        ⎦"
      ]
     },
     "metadata": {},
     "output_type": "display_data"
    },
    {
     "name": "stdout",
     "output_type": "stream",
     "text": [
      "FINAL J:\n"
     ]
    },
    {
     "data": {
      "text/latex": [
       "$\\displaystyle \\left[\\begin{matrix}- a_{2} \\sin{\\left(q_{1} \\right)} \\cos{\\left(q_{2} \\right)} & - a_{2} \\sin{\\left(q_{2} \\right)} \\cos{\\left(q_{1} \\right)}\\\\a_{2} \\cos{\\left(q_{1} \\right)} \\cos{\\left(q_{2} \\right)} & - a_{2} \\sin{\\left(q_{1} \\right)} \\sin{\\left(q_{2} \\right)}\\\\0 & a_{2} \\sin^{2}{\\left(q_{1} \\right)} \\cos{\\left(q_{2} \\right)} + a_{2} \\cos^{2}{\\left(q_{1} \\right)} \\cos{\\left(q_{2} \\right)}\\\\0 & \\sin{\\left(q_{1} \\right)}\\\\0 & - \\cos{\\left(q_{1} \\right)}\\\\1 & 0\\end{matrix}\\right]$"
      ],
      "text/plain": [
       "⎡-a₂⋅sin(q₁)⋅cos(q₂)             -a₂⋅sin(q₂)⋅cos(q₁)           ⎤\n",
       "⎢                                                              ⎥\n",
       "⎢a₂⋅cos(q₁)⋅cos(q₂)              -a₂⋅sin(q₁)⋅sin(q₂)           ⎥\n",
       "⎢                                                              ⎥\n",
       "⎢                           2                     2            ⎥\n",
       "⎢         0           a₂⋅sin (q₁)⋅cos(q₂) + a₂⋅cos (q₁)⋅cos(q₂)⎥\n",
       "⎢                                                              ⎥\n",
       "⎢         0                            sin(q₁)                 ⎥\n",
       "⎢                                                              ⎥\n",
       "⎢         0                           -cos(q₁)                 ⎥\n",
       "⎢                                                              ⎥\n",
       "⎣         1                               0                    ⎦"
      ]
     },
     "metadata": {},
     "output_type": "display_data"
    }
   ],
   "source": [
    "# 2 (a) =======================================================================\n",
    "q1, q2, d1, a2 = sp.symbols('q_1, q_2, d_1, a_2')\n",
    "\n",
    "dh_param = [[0, d1, 0, sp.pi/2.0],\n",
    "            [0, 0, a2, 0]]\n",
    "\n",
    "T_01 = get_A_sym(dh_param[0], 'r', q1)\n",
    "T_12 = get_A_sym(dh_param[1], 'r', q2)\n",
    "T_02 = T_01 @ T_12\n",
    "T = [T_01, T_02]\n",
    "\n",
    "display(sp.trigsimp(T_02.evalf()))\n",
    "\n",
    "# Now get the Jacobian\n",
    "# Axis of rotation and position of joint 1\n",
    "z0 = sp.Matrix([[0],[0],[1]])\n",
    "p0 = sp.Matrix([[0],[0],[0]])\n",
    "\n",
    "# Axis of rotation and position of joint 2\n",
    "z1 = T_01[:3, 2]\n",
    "p1 = T_01[:3, 3]\n",
    "# Position of end effector\n",
    "p2 = T_02[:3, 3]\n",
    "\n",
    "J = sp.zeros(6,2)\n",
    "\n",
    "# Jv and Jw for joint 1\n",
    "J[:3,0] = z0.cross(p2-p0)\n",
    "J[3:,0] = z0\n",
    "\n",
    "# Jv and Jw for joint 2\n",
    "J[:3,1] = z1.cross(p2-p1)\n",
    "J[3:,1] = z1\n",
    "\n",
    "\n",
    "print(\"FINAL J:\")\n",
    "display(J)"
   ]
  },
  {
   "cell_type": "code",
   "execution_count": 7,
   "metadata": {},
   "outputs": [
    {
     "name": "stdout",
     "output_type": "stream",
     "text": [
      "from first set of q's, J is:\n",
      "⎡ 0            0          ⎤\n",
      "⎢                         ⎥\n",
      "⎢0.3  1.83697019872103e-17⎥\n",
      "⎢                         ⎥\n",
      "⎢ 0           0.3         ⎥\n",
      "⎢                         ⎥\n",
      "⎢ 0            0          ⎥\n",
      "⎢                         ⎥\n",
      "⎢ 0           -1.0        ⎥\n",
      "⎢                         ⎥\n",
      "⎣ 1   6.12323399573677e-17⎦\n",
      "from second set of q's, J is:\n",
      "⎡-0.15         -0.15        ⎤\n",
      "⎢                           ⎥\n",
      "⎢0.15          -0.15        ⎥\n",
      "⎢                           ⎥\n",
      "⎢  0     0.212132034355964  ⎥\n",
      "⎢                           ⎥\n",
      "⎢  0     0.707106781186547  ⎥\n",
      "⎢                           ⎥\n",
      "⎢  0     -0.707106781186548 ⎥\n",
      "⎢                           ⎥\n",
      "⎣  1    6.12323399573677e-17⎦\n"
     ]
    }
   ],
   "source": [
    "# 2 (b) ===========================================================\n",
    "import sys\n",
    "sys.path.append(\"/home/daniel/software/MEEN537/\")\n",
    "import kinematics as kin\n",
    "from visualization import VizScene\n",
    "import sympy as sp\n",
    "import numpy as np\n",
    "import time\n",
    "np.set_printoptions(precision=4, suppress=True)\n",
    "\n",
    "dh = [[0, 0.3, 0, np.pi/2.0],\n",
    "      [0, 0, 0.3, 0]]\n",
    "\n",
    "arm = kin.SerialArm(dh)\n",
    "\n",
    "# defining two different sets of joint angles\n",
    "q_set1 = [0, 0]\n",
    "q_set2 = [np.pi/4, np.pi/4]\n",
    "\n",
    "# calculating two different jacobians for the two different joint configurations. \n",
    "J1 = arm.jacob(q_set1)\n",
    "J2 = arm.jacob(q_set2)\n",
    "\n",
    "print(\"from first set of q's, J is:\")\n",
    "sp.pprint(J1)\n",
    "print(\"from second set of q's, J is:\")\n",
    "sp.pprint(J2)"
   ]
  },
  {
   "cell_type": "code",
   "execution_count": 8,
   "metadata": {},
   "outputs": [
    {
     "data": {
      "text/latex": [
       "$\\displaystyle \\left[\\begin{matrix}\\cos{\\left(q_{1} + q_{2} \\right)} & - \\sin{\\left(q_{1} + q_{2} \\right)} & 0 & a_{1} \\cos{\\left(q_{1} \\right)} + a_{c} \\cos{\\left(q_{1} + q_{2} \\right)}\\\\\\sin{\\left(q_{1} + q_{2} \\right)} & \\cos{\\left(q_{1} + q_{2} \\right)} & 0 & a_{1} \\sin{\\left(q_{1} \\right)} + a_{c} \\sin{\\left(q_{1} + q_{2} \\right)}\\\\0 & 0 & 1.0 & 0\\\\0 & 0 & 0 & 1.0\\end{matrix}\\right]$"
      ],
      "text/plain": [
       "⎡cos(q₁ + q₂)  -sin(q₁ + q₂)   0   a₁⋅cos(q₁) + a_c⋅cos(q₁ + q₂)⎤\n",
       "⎢                                                               ⎥\n",
       "⎢sin(q₁ + q₂)  cos(q₁ + q₂)    0   a₁⋅sin(q₁) + a_c⋅sin(q₁ + q₂)⎥\n",
       "⎢                                                               ⎥\n",
       "⎢     0              0        1.0                0              ⎥\n",
       "⎢                                                               ⎥\n",
       "⎣     0              0         0                1.0             ⎦"
      ]
     },
     "metadata": {},
     "output_type": "display_data"
    },
    {
     "name": "stdout",
     "output_type": "stream",
     "text": [
      "FINAL J:\n"
     ]
    },
    {
     "data": {
      "text/latex": [
       "$\\displaystyle \\left[\\begin{matrix}- a_{1} \\sin{\\left(q_{1} \\right)} - a_{c} \\sin{\\left(q_{1} + q_{2} \\right)} & - a_{c} \\sin{\\left(q_{1} + q_{2} \\right)}\\\\a_{1} \\cos{\\left(q_{1} \\right)} + a_{c} \\cos{\\left(q_{1} + q_{2} \\right)} & a_{c} \\cos{\\left(q_{1} + q_{2} \\right)}\\\\0 & 0\\\\0 & 0\\\\0 & 0\\\\1.0 & 1.0\\end{matrix}\\right]$"
      ],
      "text/plain": [
       "⎡-a₁⋅sin(q₁) - a_c⋅sin(q₁ + q₂)  -a_c⋅sin(q₁ + q₂)⎤\n",
       "⎢                                                 ⎥\n",
       "⎢a₁⋅cos(q₁) + a_c⋅cos(q₁ + q₂)   a_c⋅cos(q₁ + q₂) ⎥\n",
       "⎢                                                 ⎥\n",
       "⎢              0                         0        ⎥\n",
       "⎢                                                 ⎥\n",
       "⎢              0                         0        ⎥\n",
       "⎢                                                 ⎥\n",
       "⎢              0                         0        ⎥\n",
       "⎢                                                 ⎥\n",
       "⎣             1.0                       1.0       ⎦"
      ]
     },
     "metadata": {},
     "output_type": "display_data"
    }
   ],
   "source": [
    "# 3 =======================================================================\n",
    "q1, q2, a1, ac = sp.symbols('q_1, q_2, a_1, a_c')\n",
    "\n",
    "dh_param = [[0, 0, a1, 0],\n",
    "            [0, 0, ac, 0]]\n",
    "\n",
    "T_01 = get_A_sym(dh_param[0], 'r', q1)\n",
    "T_12 = get_A_sym(dh_param[1], 'r', q2)\n",
    "T_02 = T_01 @ T_12\n",
    "\n",
    "display(sp.trigsimp(T_02.evalf()))\n",
    "\n",
    "# Now get the Jacobian\n",
    "# Axis of rotation and position of joint 1\n",
    "z0 = sp.Matrix([[0],[0],[1]])\n",
    "p0 = sp.Matrix([[0],[0],[0]])\n",
    "\n",
    "# Axis of rotation and position of joint 2\n",
    "z1 = T_01[:3, 2]\n",
    "p1 = T_01[:3, 3]\n",
    "# Position of end effector\n",
    "p2 = T_02[:3, 3]\n",
    "\n",
    "J = sp.zeros(6,2)\n",
    "\n",
    "# Jv and Jw for joint 1\n",
    "J[:3,0] = z0.cross(p2-p0)\n",
    "J[3:,0] = z0\n",
    "\n",
    "# Jv and Jw for joint 2\n",
    "J[:3,1] = z1.cross(p2-p1)\n",
    "J[3:,1] = z1\n",
    "\n",
    "\n",
    "print(\"FINAL J:\")\n",
    "display(sp.trigsimp(J.evalf()))"
   ]
  }
 ],
 "metadata": {
  "kernelspec": {
   "display_name": "Python 3",
   "language": "python",
   "name": "python3"
  },
  "language_info": {
   "codemirror_mode": {
    "name": "ipython",
    "version": 3
   },
   "file_extension": ".py",
   "mimetype": "text/x-python",
   "name": "python",
   "nbconvert_exporter": "python",
   "pygments_lexer": "ipython3",
   "version": "3.8.10 (default, Nov 14 2022, 12:59:47) \n[GCC 9.4.0]"
  },
  "orig_nbformat": 4,
  "vscode": {
   "interpreter": {
    "hash": "916dbcbb3f70747c44a77c7bcd40155683ae19c65e1c03b4aa3499c5328201f1"
   }
  }
 },
 "nbformat": 4,
 "nbformat_minor": 2
}
