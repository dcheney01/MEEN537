{
 "cells": [
  {
   "cell_type": "code",
   "execution_count": 6,
   "metadata": {},
   "outputs": [],
   "source": [
    "import sys\n",
    "sys.path.append(\"/home/daniel/Documents/MEEN537/HW/\")\n",
    "import transforms as tr\n",
    "import numpy as np\n",
    "np.set_printoptions(precision=4, suppress=True)"
   ]
  },
  {
   "cell_type": "code",
   "execution_count": 13,
   "metadata": {},
   "outputs": [
    {
     "name": "stdout",
     "output_type": "stream",
     "text": [
      "Rotation matrix: \n",
      "[[ 0.     -0.      1.    ]\n",
      " [ 0.7071  0.7071  0.    ]\n",
      " [-0.7071  0.7071  0.    ]]\n",
      "Axis Angle Representation: [1.7178 0.3574 0.8629 0.3574]\n",
      "Quaternion Representation: [0.6533 0.2706 0.6533 0.2706]\n"
     ]
    }
   ],
   "source": [
    "# HW 2a\n",
    "\n",
    "# R is a rotation of 90 degrees about y0 followed by a rotation of 45 degrees about z1\n",
    "R = tr.roty(np.pi / 180 * 90) @ tr.rotz(np.pi / 180 * 45)\n",
    "print(f\"Rotation matrix: \\n{R}\")\n",
    "axis_angle = tr.R2axis(R)\n",
    "\n",
    "print(f\"Axis Angle Representation: {axis_angle}\")\n",
    "\n",
    "# HW 2b\n",
    "quat_rep = tr.R2q(R)\n",
    "print(f\"Quaternion Representation: {quat_rep}\")"
   ]
  },
  {
   "cell_type": "code",
   "execution_count": 15,
   "metadata": {},
   "outputs": [
    {
     "data": {
      "text/latex": [
       "$\\displaystyle \\left[\\begin{matrix}\\cos{\\left(\\psi \\right)} \\cos{\\left(th \\right)} & \\sin{\\left(\\phi \\right)} \\sin{\\left(th \\right)} \\cos{\\left(\\psi \\right)} - \\sin{\\left(\\psi \\right)} \\cos{\\left(\\phi \\right)} & \\sin{\\left(\\phi \\right)} \\sin{\\left(\\psi \\right)} + \\sin{\\left(th \\right)} \\cos{\\left(\\phi \\right)} \\cos{\\left(\\psi \\right)}\\\\\\sin{\\left(\\psi \\right)} \\cos{\\left(th \\right)} & \\sin{\\left(\\phi \\right)} \\sin{\\left(\\psi \\right)} \\sin{\\left(th \\right)} + \\cos{\\left(\\phi \\right)} \\cos{\\left(\\psi \\right)} & - \\sin{\\left(\\phi \\right)} \\cos{\\left(\\psi \\right)} + \\sin{\\left(\\psi \\right)} \\sin{\\left(th \\right)} \\cos{\\left(\\phi \\right)}\\\\- \\sin{\\left(th \\right)} & \\sin{\\left(\\phi \\right)} \\cos{\\left(th \\right)} & \\cos{\\left(\\phi \\right)} \\cos{\\left(th \\right)}\\end{matrix}\\right]$"
      ],
      "text/plain": [
       "⎡cos(ψ)⋅cos(th)  sin(φ)⋅sin(th)⋅cos(ψ) - sin(ψ)⋅cos(φ)  sin(φ)⋅sin(ψ) + sin(th\n",
       "⎢                                                                             \n",
       "⎢sin(ψ)⋅cos(th)  sin(φ)⋅sin(ψ)⋅sin(th) + cos(φ)⋅cos(ψ)  -sin(φ)⋅cos(ψ) + sin(ψ\n",
       "⎢                                                                             \n",
       "⎣   -sin(th)                sin(φ)⋅cos(th)                          cos(φ)⋅cos\n",
       "\n",
       ")⋅cos(φ)⋅cos(ψ) ⎤\n",
       "                ⎥\n",
       ")⋅sin(th)⋅cos(φ)⎥\n",
       "                ⎥\n",
       "(th)            ⎦"
      ]
     },
     "metadata": {},
     "output_type": "display_data"
    },
    {
     "ename": "AttributeError",
     "evalue": "'numpy.ndarray' object has no attribute 'evalf'",
     "output_type": "error",
     "traceback": [
      "\u001b[0;31m---------------------------------------------------------------------------\u001b[0m",
      "\u001b[0;31mAttributeError\u001b[0m                            Traceback (most recent call last)",
      "Cell \u001b[0;32mIn [15], line 33\u001b[0m\n\u001b[1;32m     29\u001b[0m transformed_unit_vector \u001b[38;5;241m=\u001b[39m R_final \u001b[38;5;241m@\u001b[39m unit_vector_in_z\n\u001b[1;32m     32\u001b[0m display(sp\u001b[38;5;241m.\u001b[39mtrigsimp(sp\u001b[38;5;241m.\u001b[39msimplify(R_final\u001b[38;5;241m.\u001b[39mevalf())))\n\u001b[0;32m---> 33\u001b[0m display(sp\u001b[38;5;241m.\u001b[39mtrigsimp(sp\u001b[38;5;241m.\u001b[39msimplify(\u001b[43mtransformed_unit_vector\u001b[49m\u001b[38;5;241;43m.\u001b[39;49m\u001b[43mevalf\u001b[49m())))\n",
      "\u001b[0;31mAttributeError\u001b[0m: 'numpy.ndarray' object has no attribute 'evalf'"
     ]
    }
   ],
   "source": [
    "# HW 3\n",
    "\n",
    "from pyrsistent import thaw\n",
    "import sympy as sp\n",
    "from sympy import cos, sin\n",
    "from sympy import init_printing\n",
    "from IPython.display import Math, display\n",
    "init_printing(use_latex=True)\n",
    "\n",
    "th, phi, psi = sp.symbols('th, phi, psi')\n",
    "\n",
    "Rzpsi = sp.Matrix([[cos(psi), -sin(psi), 0],\n",
    "                  [sin(psi), cos(psi),  0],\n",
    "                  [0,       0,        1]])\n",
    "\n",
    "Ryth = sp.Matrix([[cos(th), 0,       sin(th)],\n",
    "                  [0,       1,       0],\n",
    "                  [-sin(th),0,       cos(th)]])\n",
    "\n",
    "Rxphi = sp.Matrix([ [1, 0,       0],\n",
    "                    [0, cos(phi), -sin(phi)],\n",
    "                    [0, sin(phi), cos(phi)]])\n",
    "\n",
    "\n",
    "R_final = Rzpsi @ Ryth @ Rxphi\n",
    "\n",
    "unit_vector_in_z = sp.Matrix([0,0,1])\n",
    "\n",
    "transformed_unit_vector = R_final @ unit_vector_in_z\n",
    "\n",
    "\n",
    "display(sp.trigsimp(sp.simplify(R_final.evalf())))\n",
    "display(sp.trigsimp(sp.simplify(transformed_unit_vector.evalf())))"
   ]
  }
 ],
 "metadata": {
  "kernelspec": {
   "display_name": "Python 3.8.10 64-bit",
   "language": "python",
   "name": "python3"
  },
  "language_info": {
   "codemirror_mode": {
    "name": "ipython",
    "version": 3
   },
   "file_extension": ".py",
   "mimetype": "text/x-python",
   "name": "python",
   "nbconvert_exporter": "python",
   "pygments_lexer": "ipython3",
   "version": "3.8.10"
  },
  "orig_nbformat": 4,
  "vscode": {
   "interpreter": {
    "hash": "e7370f93d1d0cde622a1f8e1c04877d8463912d04d973331ad4851f04de6915a"
   }
  }
 },
 "nbformat": 4,
 "nbformat_minor": 2
}
