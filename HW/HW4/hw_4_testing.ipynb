{
 "cells": [
  {
   "cell_type": "code",
   "execution_count": 11,
   "metadata": {},
   "outputs": [],
   "source": [
    "import sys\n",
    "sys.path.append(\"C:/Users/danie/Documents/School/MEEN537/HW\")\n",
    "sys.path.append(\"/home/daniel/Documents/MEEN537/HW/\")\n",
    "import transforms as tr\n",
    "import numpy as np\n",
    "np.set_printoptions(precision=4, suppress=True)"
   ]
  },
  {
   "cell_type": "code",
   "execution_count": 12,
   "metadata": {},
   "outputs": [
    {
     "name": "stdout",
     "output_type": "stream",
     "text": [
      "Rotation matrix: \n",
      "[[ 0.     -0.      1.    ]\n",
      " [ 0.7071  0.7071  0.    ]\n",
      " [-0.7071  0.7071  0.    ]]\n",
      "Axis Angle Representation: [1.7178 0.3574 0.8629 0.3574]\n",
      "Quaternion Representation: [0.6533 0.2706 0.6533 0.2706]\n"
     ]
    }
   ],
   "source": [
    "# HW 2a\n",
    "\n",
    "# R is a rotation of 90 degrees about y0 followed by a rotation of 45 degrees about z1\n",
    "R = tr.roty(np.pi / 180 * 90) @ tr.rotz(np.pi / 180 * 45)\n",
    "print(f\"Rotation matrix: \\n{R}\")\n",
    "axis_angle = tr.R2axis(R)\n",
    "\n",
    "print(f\"Axis Angle Representation: {axis_angle}\")\n",
    "\n",
    "# HW 2b\n",
    "quat_rep = tr.R2q(R)\n",
    "print(f\"Quaternion Representation: {quat_rep}\")"
   ]
  },
  {
   "cell_type": "code",
   "execution_count": 15,
   "metadata": {},
   "outputs": [
    {
     "data": {
      "text/latex": [
       "$\\displaystyle \\left[\\begin{matrix}\\cos{\\left(\\psi \\right)} \\cos{\\left(\\theta \\right)} & \\sin{\\left(\\phi \\right)} \\sin{\\left(\\theta \\right)} \\cos{\\left(\\psi \\right)} - \\sin{\\left(\\psi \\right)} \\cos{\\left(\\phi \\right)} & \\sin{\\left(\\phi \\right)} \\sin{\\left(\\psi \\right)} + \\sin{\\left(\\theta \\right)} \\cos{\\left(\\phi \\right)} \\cos{\\left(\\psi \\right)}\\\\\\sin{\\left(\\psi \\right)} \\cos{\\left(\\theta \\right)} & \\sin{\\left(\\phi \\right)} \\sin{\\left(\\psi \\right)} \\sin{\\left(\\theta \\right)} + \\cos{\\left(\\phi \\right)} \\cos{\\left(\\psi \\right)} & - \\sin{\\left(\\phi \\right)} \\cos{\\left(\\psi \\right)} + \\sin{\\left(\\psi \\right)} \\sin{\\left(\\theta \\right)} \\cos{\\left(\\phi \\right)}\\\\- \\sin{\\left(\\theta \\right)} & \\sin{\\left(\\phi \\right)} \\cos{\\left(\\theta \\right)} & \\cos{\\left(\\phi \\right)} \\cos{\\left(\\theta \\right)}\\end{matrix}\\right]$"
      ],
      "text/plain": [
       "⎡cos(ψ)⋅cos(θ)  sin(φ)⋅sin(θ)⋅cos(ψ) - sin(ψ)⋅cos(φ)  sin(φ)⋅sin(ψ) + sin(θ)⋅c\n",
       "⎢                                                                             \n",
       "⎢sin(ψ)⋅cos(θ)  sin(φ)⋅sin(ψ)⋅sin(θ) + cos(φ)⋅cos(ψ)  -sin(φ)⋅cos(ψ) + sin(ψ)⋅\n",
       "⎢                                                                             \n",
       "⎣   -sin(θ)                sin(φ)⋅cos(θ)                          cos(φ)⋅cos(θ\n",
       "\n",
       "os(φ)⋅cos(ψ) ⎤\n",
       "             ⎥\n",
       "sin(θ)⋅cos(φ)⎥\n",
       "             ⎥\n",
       ")            ⎦"
      ]
     },
     "metadata": {},
     "output_type": "display_data"
    },
    {
     "data": {
      "text/latex": [
       "$\\displaystyle \\left[\\begin{matrix}\\sin{\\left(\\phi \\right)} \\sin{\\left(\\psi \\right)} + \\sin{\\left(\\theta \\right)} \\cos{\\left(\\phi \\right)} \\cos{\\left(\\psi \\right)}\\\\- \\sin{\\left(\\phi \\right)} \\cos{\\left(\\psi \\right)} + \\sin{\\left(\\psi \\right)} \\sin{\\left(\\theta \\right)} \\cos{\\left(\\phi \\right)}\\\\\\cos{\\left(\\phi \\right)} \\cos{\\left(\\theta \\right)}\\end{matrix}\\right]$"
      ],
      "text/plain": [
       "⎡sin(φ)⋅sin(ψ) + sin(θ)⋅cos(φ)⋅cos(ψ) ⎤\n",
       "⎢                                     ⎥\n",
       "⎢-sin(φ)⋅cos(ψ) + sin(ψ)⋅sin(θ)⋅cos(φ)⎥\n",
       "⎢                                     ⎥\n",
       "⎣            cos(φ)⋅cos(θ)            ⎦"
      ]
     },
     "metadata": {},
     "output_type": "display_data"
    }
   ],
   "source": [
    "# HW 3\n",
    "\n",
    "from pyrsistent import thaw\n",
    "import sympy as sp\n",
    "from sympy import cos, sin\n",
    "from sympy import init_printing\n",
    "from IPython.display import Math, display\n",
    "init_printing(use_latex=True)\n",
    "\n",
    "th, phi, psi = sp.symbols('theta, phi, psi')\n",
    "\n",
    "Rzpsi = sp.Matrix([[cos(psi), -sin(psi), 0],\n",
    "                  [sin(psi),  cos(psi),  0],\n",
    "                  [0,         0,         1]])\n",
    "\n",
    "Ryth = sp.Matrix([[cos(th),  0,       sin(th)],\n",
    "                  [0,        1,       0],\n",
    "                  [-sin(th), 0,       cos(th)]])\n",
    "\n",
    "Rxphi = sp.Matrix([ [1, 0,        0],\n",
    "                    [0, cos(phi), -sin(phi)],\n",
    "                    [0, sin(phi), cos(phi)]])\n",
    "\n",
    "\n",
    "R_final = Rzpsi @ Ryth @ Rxphi\n",
    "\n",
    "unit_vector_in_z = sp.Matrix([0,0,1])\n",
    "\n",
    "transformed_unit_vector = R_final @ unit_vector_in_z\n",
    "\n",
    "R_final = sp.trigsimp(sp.simplify(R_final.evalf()))\n",
    "display(R_final)\n",
    "display(sp.trigsimp(sp.simplify(transformed_unit_vector.evalf())))\n",
    "\n",
    "\n",
    "# # Can multiple by inverse sin(theta) because R31 is sin(theta)\n",
    "# R_nopitch = sp.trigsimp(sp.simplify(Ryth @ R_final).evalf())\n",
    "# display(R_nopitch)\n"
   ]
  }
 ],
 "metadata": {
  "kernelspec": {
   "display_name": "Python 3.7.11 ('pyt37')",
   "language": "python",
   "name": "python3"
  },
  "language_info": {
   "codemirror_mode": {
    "name": "ipython",
    "version": 3
   },
   "file_extension": ".py",
   "mimetype": "text/x-python",
   "name": "python",
   "nbconvert_exporter": "python",
   "pygments_lexer": "ipython3",
   "version": "3.7.11"
  },
  "orig_nbformat": 4,
  "vscode": {
   "interpreter": {
    "hash": "69e3d768710f0a184c29e98d125782cd2b931de38965008191db5552bf80cd38"
   }
  }
 },
 "nbformat": 4,
 "nbformat_minor": 2
}
