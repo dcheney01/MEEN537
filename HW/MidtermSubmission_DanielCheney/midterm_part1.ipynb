{
 "cells": [
  {
   "cell_type": "code",
   "execution_count": 19,
   "metadata": {},
   "outputs": [],
   "source": [
    "import numpy as np\n",
    "T_01 = np.array([[1,0,0,0], [0,0,1,0], [0,-1,0,1], [0,0,0,1]])\n",
    "T_12 = np.array([[1,0,0,.5], [0,1,0,0], [0,0,1,0], [0,0,0,1]])\n",
    "T_23 = np.array([[1,0,0,0], [0,0,-1,0], [0,1,0,0], [0,0,0,1]])\n",
    "T_34 = np.array([[1,0,0,0], [0,0,-1,0], [0,1,0,.5], [0,0,0,1]])\n",
    "T_45 = np.array([[0,0,-1,0], [0,1,0,0], [1,0,0,0], [0,0,0,1]])\n",
    "T_56 = np.array([[0,1,0,0], [-1,0,0,0], [0,0,1,.5], [0,0,0,1]])\n",
    "\n",
    "T = [T_01, T_12, T_23, T_34, T_45, T_56]"
   ]
  },
  {
   "cell_type": "code",
   "execution_count": 31,
   "metadata": {},
   "outputs": [],
   "source": [
    "def get_z_i1(_index):\n",
    "    final = np.eye(4)\n",
    "    for i in range(_index):\n",
    "        final = final @ T[i]\n",
    "    return final[:3, -2]\n",
    "\n",
    "def getOpos(_index):\n",
    "    final = np.eye(4)\n",
    "    for i in range(_index):\n",
    "        final = final @ T[i]\n",
    "    return final[:3,-1]"
   ]
  },
  {
   "cell_type": "code",
   "execution_count": 48,
   "metadata": {},
   "outputs": [
    {
     "name": "stdout",
     "output_type": "stream",
     "text": [
      "\n",
      "[[ 0.   0.5  0.5  0.  -0.   0. ]\n",
      " [ 0.   0.  -0.  -0.5 -0.   0. ]\n",
      " [ 0.   0.   0.5  0.  -0.5  0. ]\n",
      " [ 0.   0.   0.   0.   0.  -1. ]\n",
      " [ 0.   1.   1.   0.  -1.   0. ]\n",
      " [ 1.   0.   0.   1.   0.   0. ]]\n"
     ]
    }
   ],
   "source": [
    "# Problem 6\n",
    "\n",
    "J = np.zeros((6,6))\n",
    "\n",
    "for i in range(6):\n",
    "    z_i1 = get_z_i1(i)\n",
    "    Jv = np.cross(z_i1.T, getOpos(6)-getOpos(i)).T\n",
    "    Jw = z_i1\n",
    "    J[:,i] = np.hstack((Jv, Jw))\n",
    "\n",
    "print()\n",
    "print(J)"
   ]
  },
  {
   "cell_type": "code",
   "execution_count": 52,
   "metadata": {},
   "outputs": [
    {
     "name": "stdout",
     "output_type": "stream",
     "text": [
      "\n",
      "[[ 0.   0.   0. ]\n",
      " [ 0.5  0.   0. ]\n",
      " [ 0.  -0.5  0. ]\n",
      " [ 0.   0.   0. ]\n",
      " [ 0.   1.   1. ]\n",
      " [ 1.   0.   0. ]]\n"
     ]
    }
   ],
   "source": [
    "# Problem 7\n",
    "\n",
    "J = np.zeros((6,3)) # 3 joints\n",
    "\n",
    "for i in range(3):\n",
    "    z_i1 = get_z_i1(i).reshape(3,)\n",
    "    Jv = np.cross(z_i1.T, getOpos(3)-getOpos(i)).T\n",
    "    Jw = z_i1\n",
    "    J[:,i] = np.hstack((Jv, Jw))\n",
    "\n",
    "print()\n",
    "print(J)"
   ]
  },
  {
   "cell_type": "code",
   "execution_count": 62,
   "metadata": {},
   "outputs": [
    {
     "name": "stdout",
     "output_type": "stream",
     "text": [
      "[[  0.]\n",
      " [  0.]\n",
      " [ 50.]\n",
      " [  0.]\n",
      " [-50.]\n",
      " [  0.]]\n"
     ]
    }
   ],
   "source": [
    "# Problem 8\n",
    "J = np.zeros((6,6))\n",
    "\n",
    "for i in range(6):\n",
    "    z_i1 = get_z_i1(i)\n",
    "    Jv = np.cross(z_i1.T, getOpos(6)-getOpos(i)).T\n",
    "    Jw = z_i1\n",
    "    J[:,i] = np.hstack((Jv, Jw))\n",
    "\n",
    "F = np.array([[0],[0],[100], [0], [0], [0]])\n",
    "tau = J.T @ F\n",
    "print(tau)\n"
   ]
  }
 ],
 "metadata": {
  "kernelspec": {
   "display_name": "Python 3.7.11 ('pyt37')",
   "language": "python",
   "name": "python3"
  },
  "language_info": {
   "codemirror_mode": {
    "name": "ipython",
    "version": 3
   },
   "file_extension": ".py",
   "mimetype": "text/x-python",
   "name": "python",
   "nbconvert_exporter": "python",
   "pygments_lexer": "ipython3",
   "version": "3.7.11"
  },
  "orig_nbformat": 4,
  "vscode": {
   "interpreter": {
    "hash": "69e3d768710f0a184c29e98d125782cd2b931de38965008191db5552bf80cd38"
   }
  }
 },
 "nbformat": 4,
 "nbformat_minor": 2
}
