{
    "cells": [
        {
            "cell_type": "markdown",
            "metadata": {},
            "source": [
                "# HW 3: Key\n",
                "* If you replace the import of the key transforms file with yours, the outputs in each cell below shouldn't change if your code is correct. "
            ]
        },
        {
            "cell_type": "code",
            "execution_count": 1,
            "metadata": {},
            "outputs": [],
            "source": [
                "import sys\n",
                "sys.path.append(\"/home/daniel/Documents/HW\")\n",
                "import transforms as tr\n",
                "import numpy as np\n",
                "from visualization import VizScene "
            ]
        },
        {
            "cell_type": "markdown",
            "metadata": {},
            "source": [
                "# Problem # 1\n",
                "### Homogeneous matrix made of only rotation about z-axis by amount $\\frac{\\pi}{4}$\n",
                "\n",
                "Rotation by amount theta around the z-axis should give the following:\n",
                "$$\n",
                "\\left[\\begin{matrix}0.707 & -0.707 & 0 & 0\\\\ 0.707 & 0.707 & 0 & 0\\\\0 & 0 & 1 & 0\\\\0 & 0 & 0 & 1\\end{matrix}\\right]\n",
                "$$"
            ]
        },
        {
            "cell_type": "code",
            "execution_count": 2,
            "metadata": {},
            "outputs": [
                {
                    "name": "stdout",
                    "output_type": "stream",
                    "text": [
                        "[[ 0.70710678 -0.70710678  0.          0.        ]\n",
                        " [ 0.70710678  0.70710678  0.          0.        ]\n",
                        " [ 0.          0.          1.          0.        ]\n",
                        " [ 0.          0.          0.          1.        ]]\n"
                    ]
                }
            ],
            "source": [
                "T = tr.se3(tr.rotz(np.pi/4))\n",
                "print(T)\n"
            ]
        },
        {
            "cell_type": "markdown",
            "metadata": {},
            "source": [
                "### Translation only along the x-axis by an amount $0.5$ should give the following:\n",
                "$$\n",
                "\\left[\\begin{matrix}1 & 0 & 0 & 0.5 \\\\0 & 1 & 0 & 0\\\\0 & 0 & 1 & 0\\\\0 & 0 & 0 & 1\\end{matrix}\\right]\n",
                "$$"
            ]
        },
        {
            "cell_type": "code",
            "execution_count": 3,
            "metadata": {},
            "outputs": [
                {
                    "name": "stdout",
                    "output_type": "stream",
                    "text": [
                        "[[1.  0.  0.  0.5]\n",
                        " [0.  1.  0.  0. ]\n",
                        " [0.  0.  1.  0. ]\n",
                        " [0.  0.  0.  1. ]]\n"
                    ]
                }
            ],
            "source": [
                "T = tr.se3(p=[0.5, 0, 0])\n",
                "print(T)"
            ]
        },
        {
            "cell_type": "markdown",
            "metadata": {},
            "source": [
                "### Checking the \"inv\" function\n",
                "\n",
                "If we calculate a homogenous transform with a rotation of 45 degrees about the x-axis and a general translation ($[0.5, 0.25, 0.3]^T$) we get the following:\n",
                "$$\n",
                "\\left[\\begin{matrix}1 & 0 & 0 & 0.5\\\\0 & 0.707106781186548 & -0.707106781186547 & 0.25\\\\0 & 0.707106781186547 & 0.707106781186548 & 0.3\\\\0 & 0 & 0 & 1\\end{matrix}\\right]\n",
                "$$\n",
                "\n",
                "Then, we can multiply the original transform by its inverse to check out inverse function, we should get the following:\n",
                "$$\n",
                "\\left[\\begin{matrix}1 & 0 & 0 & 0\\\\0 & 1.0 & 0 & 0\\\\0 & 0 & 1.0 & 0\\\\0 & 0 & 0 & 1\\end{matrix}\\right]\n",
                "$$"
            ]
        },
        {
            "cell_type": "code",
            "execution_count": 4,
            "metadata": {},
            "outputs": [
                {
                    "name": "stdout",
                    "output_type": "stream",
                    "text": [
                        "[[ 1.          0.          0.          0.5       ]\n",
                        " [ 0.          0.70710678 -0.70710678  0.25      ]\n",
                        " [ 0.          0.70710678  0.70710678  0.3       ]\n",
                        " [ 0.          0.          0.          1.        ]]\n",
                        "\n",
                        "\n",
                        " inv(T) @ T should give identity matrix:\n",
                        "[[ 1.00000000e+00  0.00000000e+00  0.00000000e+00  0.00000000e+00]\n",
                        " [ 0.00000000e+00  1.00000000e+00 -1.01465364e-17  0.00000000e+00]\n",
                        " [ 0.00000000e+00 -1.01465364e-17  1.00000000e+00  6.93889390e-18]\n",
                        " [ 0.00000000e+00  0.00000000e+00  0.00000000e+00  1.00000000e+00]]\n"
                    ]
                }
            ],
            "source": [
                "T = tr.se3(tr.rotx(np.pi/4), [0.5, 0.25, 0.3])\n",
                "print(T)\n",
                "\n",
                "# now we can check if we implemented \"inv\" correctly:\n",
                "check = tr.inv(T) @ T\n",
                "print(\"\\n\\n inv(T) @ T should give identity matrix:\")\n",
                "print(check)\n"
            ]
        },
        {
            "cell_type": "markdown",
            "metadata": {},
            "source": [
                "### Using DH parameters to find A matrices (for each joint):\n",
                "\n",
                "Remember that if we combine a rotation in z, translation in z, then translation in x, and rotation in x, we should get the same result as the book for following the DH convention to move from one frame (or joint) to another as follows: \n",
                "\n",
                "$$\n",
                "A = \\left[\\begin{matrix}\\cos{\\left(\\theta \\right)} & - \\sin{\\left(\\theta \\right)} \\cos{\\left(\\alpha \\right)} & \\sin{\\left(\\alpha \\right)} \\sin{\\left(\\theta \\right)} & a \\cos{\\left(\\theta \\right)}\\\\\\sin{\\left(\\theta \\right)} & \\cos{\\left(\\alpha \\right)} \\cos{\\left(\\theta \\right)} & - \\sin{\\left(\\alpha \\right)} \\cos{\\left(\\theta \\right)} & a \\sin{\\left(\\theta \\right)}\\\\0 & \\sin{\\left(\\alpha \\right)} & \\cos{\\left(\\alpha \\right)} & d\\\\0 & 0 & 0 & 1\\end{matrix}\\right]\n",
                "$$\n",
                "\n",
                "In future homework, we'll implement representations of robot arms that include this transformation. But for the test values of DH parameters below, we can perform this sequence of operations manually.  \n",
                "\n",
                "Assuming the following DH parameters for two joints:\n",
                "\n",
                "$\\theta_1 = \\frac{\\pi}{8}$, $d_1 = 0$, $a_1 = 0.3$, $\\alpha_1 = \\frac{\\pi}{2}$\n",
                "\n",
                "$\\theta_2 = \\frac{\\pi}{4}$, $d_2 = 0$, $a_2 = 0.3$, $\\alpha_2 = 0$\n",
                "\n",
                "\n",
                "The resulting homogeneous transform describing the tip (or frame 2) relate to frame 0 would be:\n",
                "\n",
                "$$\n",
                "\\left[\\begin{matrix}0.653281482438188 & -0.653281482438188 & 0.38268343236509 & 0.473148304484842\\\\0.270598050073099 & -0.270598050073099 & -0.923879532511287 & 0.195984444731456\\\\0.707106781186548 & 0.707106781186548 & 0 & 0.212132034355964\\\\0 & 0 & 0 & 1.0\\end{matrix}\\right]\n",
                "$$"
            ]
        },
        {
            "cell_type": "code",
            "execution_count": 5,
            "metadata": {},
            "outputs": [
                {
                    "name": "stdout",
                    "output_type": "stream",
                    "text": [
                        "[[ 6.53281482e-01 -6.53281482e-01  3.82683432e-01  4.73148304e-01]\n",
                        " [ 2.70598050e-01 -2.70598050e-01 -9.23879533e-01  1.95984445e-01]\n",
                        " [ 7.07106781e-01  7.07106781e-01  6.12323400e-17  2.12132034e-01]\n",
                        " [ 0.00000000e+00  0.00000000e+00  0.00000000e+00  1.00000000e+00]]\n"
                    ]
                },
                {
                    "name": "stderr",
                    "output_type": "stream",
                    "text": [
                        "/home/daniel/.local/lib/python3.8/site-packages/pyqtgraph/opengl/GLViewWidget.py:260: RuntimeWarning: \n",
                        "Traceback (most recent call last):\n",
                        "  File \"/usr/lib/python3.8/runpy.py\", line 194, in _run_module_as_main\n",
                        "    return _run_code(code, main_globals, None,\n",
                        "  File \"/usr/lib/python3.8/runpy.py\", line 87, in _run_code\n",
                        "    exec(code, run_globals)\n",
                        "  File \"/home/daniel/.local/lib/python3.8/site-packages/ipykernel_launcher.py\", line 17, in <module>\n",
                        "    app.launch_new_instance()\n",
                        "  File \"/home/daniel/.local/lib/python3.8/site-packages/traitlets/config/application.py\", line 976, in launch_instance\n",
                        "    app.start()\n",
                        "  File \"/home/daniel/.local/lib/python3.8/site-packages/ipykernel/kernelapp.py\", line 712, in start\n",
                        "    self.io_loop.start()\n",
                        "  File \"/home/daniel/.local/lib/python3.8/site-packages/tornado/platform/asyncio.py\", line 215, in start\n",
                        "    self.asyncio_loop.run_forever()\n",
                        "  File \"/usr/lib/python3.8/asyncio/base_events.py\", line 570, in run_forever\n",
                        "    self._run_once()\n",
                        "  File \"/usr/lib/python3.8/asyncio/base_events.py\", line 1859, in _run_once\n",
                        "    handle._run()\n",
                        "  File \"/usr/lib/python3.8/asyncio/events.py\", line 81, in _run\n",
                        "    self._context.run(self._callback, *self._args)\n",
                        "  File \"/home/daniel/.local/lib/python3.8/site-packages/ipykernel/kernelbase.py\", line 510, in dispatch_queue\n",
                        "    await self.process_one()\n",
                        "  File \"/home/daniel/.local/lib/python3.8/site-packages/ipykernel/kernelbase.py\", line 499, in process_one\n",
                        "    await dispatch(*args)\n",
                        "  File \"/home/daniel/.local/lib/python3.8/site-packages/ipykernel/kernelbase.py\", line 406, in dispatch_shell\n",
                        "    await result\n",
                        "  File \"/home/daniel/.local/lib/python3.8/site-packages/ipykernel/kernelbase.py\", line 730, in execute_request\n",
                        "    reply_content = await reply_content\n",
                        "  File \"/home/daniel/.local/lib/python3.8/site-packages/ipykernel/ipkernel.py\", line 383, in do_execute\n",
                        "    res = shell.run_cell(\n",
                        "  File \"/home/daniel/.local/lib/python3.8/site-packages/ipykernel/zmqshell.py\", line 528, in run_cell\n",
                        "    return super().run_cell(*args, **kwargs)\n",
                        "  File \"/home/daniel/.local/lib/python3.8/site-packages/IPython/core/interactiveshell.py\", line 2885, in run_cell\n",
                        "    result = self._run_cell(\n",
                        "  File \"/home/daniel/.local/lib/python3.8/site-packages/IPython/core/interactiveshell.py\", line 2940, in _run_cell\n",
                        "    return runner(coro)\n",
                        "  File \"/home/daniel/.local/lib/python3.8/site-packages/IPython/core/async_helpers.py\", line 129, in _pseudo_sync_runner\n",
                        "    coro.send(None)\n",
                        "  File \"/home/daniel/.local/lib/python3.8/site-packages/IPython/core/interactiveshell.py\", line 3139, in run_cell_async\n",
                        "    has_raised = await self.run_ast_nodes(code_ast.body, cell_name,\n",
                        "  File \"/home/daniel/.local/lib/python3.8/site-packages/IPython/core/interactiveshell.py\", line 3318, in run_ast_nodes\n",
                        "    if await self.run_code(code, result, async_=asy):\n",
                        "  File \"/home/daniel/.local/lib/python3.8/site-packages/IPython/core/interactiveshell.py\", line 3378, in run_code\n",
                        "    exec(code_obj, self.user_global_ns, self.user_ns)\n",
                        "  File \"/tmp/ipykernel_1476132/273840387.py\", line 38, in <module>\n",
                        "    viz.update()\n",
                        "  File \"/home/daniel/Documents/HW/visualization.py\", line 320, in update\n",
                        "    self.app.processEvents()\n",
                        "  File \"/home/daniel/.local/lib/python3.8/site-packages/pyqtgraph/opengl/GLViewWidget.py\", line 239, in paintGL\n",
                        "    self.drawItemTree(useItemNames=useItemNames)\n",
                        "  File \"/home/daniel/.local/lib/python3.8/site-packages/pyqtgraph/opengl/GLViewWidget.py\", line 271, in drawItemTree\n",
                        "    self.drawItemTree(i, useItemNames=useItemNames)\n",
                        "  File \"/home/daniel/.local/lib/python3.8/site-packages/pyqtgraph/opengl/GLViewWidget.py\", line 260, in drawItemTree\n",
                        "    debug.printExc()\n",
                        "  --- exception caught here ---\n",
                        "  File \"/home/daniel/.local/lib/python3.8/site-packages/pyqtgraph/opengl/GLViewWidget.py\", line 257, in drawItemTree\n",
                        "    i.paint()\n",
                        "  File \"/home/daniel/Documents/HW/visualization.py\", line 781, in paint\n",
                        "    self.GLViewWidget.qglColor(Qt.white)\n",
                        "AttributeError: 'GLViewWidget' object has no attribute 'qglColor'\n",
                        "  debug.printExc()\n"
                    ]
                },
                {
                    "name": "stdout",
                    "output_type": "stream",
                    "text": [
                        "Error while drawing item <visualization.GLTextItem object at 0x7fe2bc65a5e0>.\n",
                        "Error while drawing item <visualization.GLTextItem object at 0x7fe2bc65a700>.\n",
                        "Error while drawing item <visualization.GLTextItem object at 0x7fe2bc65a820>.\n",
                        "Error while drawing item <visualization.GLTextItem object at 0x7fe2bc65a5e0>.\n",
                        "Error while drawing item <visualization.GLTextItem object at 0x7fe2bc65a700>.\n",
                        "Error while drawing item <visualization.GLTextItem object at 0x7fe2bc65a820>.\n",
                        "Error while drawing item <visualization.GLTextItem object at 0x7fe2bc65a5e0>.\n",
                        "Error while drawing item <visualization.GLTextItem object at 0x7fe2bc65a700>.\n",
                        "Error while drawing item <visualization.GLTextItem object at 0x7fe2bc65a820>.\n"
                    ]
                }
            ],
            "source": [
                "# start by substituting the actual values for R and p and making a new SE3 object\n",
                "# that describes the transformation from frame 0 to frame 1\n",
                "\n",
                "# find the transformation from frame 0 to 1\n",
                "T1_in_0 = tr.se3(R=tr.rotz(np.pi/8.0))\\\n",
                "    @tr.se3(p = np.array([0, 0, 0]))\\\n",
                "    @tr.se3(p = np.array([0.3, 0, 0]))\\\n",
                "    @tr.se3(R=tr.rotx(np.pi/2))\n",
                "\n",
                "# do the same thing for frame 1 to frame 2\n",
                "T2_in_1 = tr.se3(R=tr.rotz(np.pi/4.0))\\\n",
                "    @tr.se3(p = np.array([0, 0, 0]))\\\n",
                "    @tr.se3(p = np.array([0.3, 0, 0]))\\\n",
                "    @tr.se3(R=tr.rotx(0.0))\n",
                "\n",
                "# now we can combine the two to get a transformation that describes frame 2 \n",
                "# relative to frame 0\n",
                "T2_in_0 = T1_in_0 @ T2_in_1\n",
                "\n",
                "\n",
                "# printing the result\n",
                "print(T2_in_0)\n",
                "\n",
                "# use the \"add_frame\" function to plot both frames (for joint 1 and joint 2) relative \n",
                "# to a base or ground frame. \n",
                "\n",
                "from visualization import VizScene \n",
                "import time\n",
                "                         \n",
                "viz = VizScene()\n",
                "viz.add_frame(np.eye(4), label='world')\n",
                "viz.add_frame(T1_in_0, label='T1_in_0')\n",
                "viz.add_frame(T2_in_0, label='T2_in_0')\n",
                "\n",
                "time_to_run = 15\n",
                "refresh_rate = 60\n",
                "for i in range(refresh_rate * time_to_run):\n",
                "    viz.update()\n",
                "    time.sleep(1.0/refresh_rate)\n",
                "    \n",
                "viz.close_viz()"
            ]
        },
        {
            "cell_type": "markdown",
            "metadata": {},
            "source": [
                "# Problem 2 (a) and (b)\n",
                "\n",
                "For each of the homogenous transforms below, I determined them by inspection. Also the variable \"T1_in_0\" is short for T describing frame 1 relative to frame 0, or $$T_1^0$$"
            ]
        },
        {
            "cell_type": "code",
            "execution_count": 7,
            "metadata": {},
            "outputs": [
                {
                    "name": "stdout",
                    "output_type": "stream",
                    "text": [
                        "[[1. 0. 0. 0.]\n",
                        " [0. 1. 0. 1.]\n",
                        " [0. 0. 1. 1.]\n",
                        " [0. 0. 0. 1.]]\n",
                        "[[ 1.   0.   0.  -0.5]\n",
                        " [ 0.   1.   0.   1.5]\n",
                        " [ 0.   0.   1.   1.1]\n",
                        " [ 0.   0.   0.   1. ]]\n",
                        "[[ 0.   1.   0.  -0.5]\n",
                        " [ 1.   0.   0.   1.5]\n",
                        " [ 0.   0.  -1.   3. ]\n",
                        " [ 0.   0.   0.   1. ]]\n",
                        "[[ 0.   1.   0.   0. ]\n",
                        " [ 1.   0.   0.   0. ]\n",
                        " [ 0.   0.  -1.   1.9]\n",
                        " [ 0.   0.   0.   1. ]]\n",
                        "Error while drawing item <visualization.GLTextItem object at 0x7fe2a521b550>.\n",
                        "Error while drawing item <visualization.GLTextItem object at 0x7fe2a521ba60>.\n",
                        "Error while drawing item <visualization.GLTextItem object at 0x7fe2a521baf0>.\n",
                        "Error while drawing item <visualization.GLTextItem object at 0x7fe2a521bdc0>.\n",
                        "Error while drawing item <visualization.GLTextItem object at 0x7fe2a521b550>.\n",
                        "Error while drawing item <visualization.GLTextItem object at 0x7fe2a521ba60>.\n",
                        "Error while drawing item <visualization.GLTextItem object at 0x7fe2a521baf0>.\n",
                        "Error while drawing item <visualization.GLTextItem object at 0x7fe2a521bdc0>.\n"
                    ]
                },
                {
                    "name": "stderr",
                    "output_type": "stream",
                    "text": [
                        "/home/daniel/.local/lib/python3.8/site-packages/pyqtgraph/opengl/GLViewWidget.py:260: RuntimeWarning: \n",
                        "Traceback (most recent call last):\n",
                        "  File \"/usr/lib/python3.8/runpy.py\", line 194, in _run_module_as_main\n",
                        "    return _run_code(code, main_globals, None,\n",
                        "  File \"/usr/lib/python3.8/runpy.py\", line 87, in _run_code\n",
                        "    exec(code, run_globals)\n",
                        "  File \"/home/daniel/.local/lib/python3.8/site-packages/ipykernel_launcher.py\", line 17, in <module>\n",
                        "    app.launch_new_instance()\n",
                        "  File \"/home/daniel/.local/lib/python3.8/site-packages/traitlets/config/application.py\", line 976, in launch_instance\n",
                        "    app.start()\n",
                        "  File \"/home/daniel/.local/lib/python3.8/site-packages/ipykernel/kernelapp.py\", line 712, in start\n",
                        "    self.io_loop.start()\n",
                        "  File \"/home/daniel/.local/lib/python3.8/site-packages/tornado/platform/asyncio.py\", line 215, in start\n",
                        "    self.asyncio_loop.run_forever()\n",
                        "  File \"/usr/lib/python3.8/asyncio/base_events.py\", line 570, in run_forever\n",
                        "    self._run_once()\n",
                        "  File \"/usr/lib/python3.8/asyncio/base_events.py\", line 1859, in _run_once\n",
                        "    handle._run()\n",
                        "  File \"/usr/lib/python3.8/asyncio/events.py\", line 81, in _run\n",
                        "    self._context.run(self._callback, *self._args)\n",
                        "  File \"/home/daniel/.local/lib/python3.8/site-packages/ipykernel/kernelbase.py\", line 510, in dispatch_queue\n",
                        "    await self.process_one()\n",
                        "  File \"/home/daniel/.local/lib/python3.8/site-packages/ipykernel/kernelbase.py\", line 499, in process_one\n",
                        "    await dispatch(*args)\n",
                        "  File \"/home/daniel/.local/lib/python3.8/site-packages/ipykernel/kernelbase.py\", line 406, in dispatch_shell\n",
                        "    await result\n",
                        "  File \"/home/daniel/.local/lib/python3.8/site-packages/ipykernel/kernelbase.py\", line 730, in execute_request\n",
                        "    reply_content = await reply_content\n",
                        "  File \"/home/daniel/.local/lib/python3.8/site-packages/ipykernel/ipkernel.py\", line 383, in do_execute\n",
                        "    res = shell.run_cell(\n",
                        "  File \"/home/daniel/.local/lib/python3.8/site-packages/ipykernel/zmqshell.py\", line 528, in run_cell\n",
                        "    return super().run_cell(*args, **kwargs)\n",
                        "  File \"/home/daniel/.local/lib/python3.8/site-packages/IPython/core/interactiveshell.py\", line 2885, in run_cell\n",
                        "    result = self._run_cell(\n",
                        "  File \"/home/daniel/.local/lib/python3.8/site-packages/IPython/core/interactiveshell.py\", line 2940, in _run_cell\n",
                        "    return runner(coro)\n",
                        "  File \"/home/daniel/.local/lib/python3.8/site-packages/IPython/core/async_helpers.py\", line 129, in _pseudo_sync_runner\n",
                        "    coro.send(None)\n",
                        "  File \"/home/daniel/.local/lib/python3.8/site-packages/IPython/core/interactiveshell.py\", line 3139, in run_cell_async\n",
                        "    has_raised = await self.run_ast_nodes(code_ast.body, cell_name,\n",
                        "  File \"/home/daniel/.local/lib/python3.8/site-packages/IPython/core/interactiveshell.py\", line 3318, in run_ast_nodes\n",
                        "    if await self.run_code(code, result, async_=asy):\n",
                        "  File \"/home/daniel/.local/lib/python3.8/site-packages/IPython/core/interactiveshell.py\", line 3378, in run_code\n",
                        "    exec(code_obj, self.user_global_ns, self.user_ns)\n",
                        "  File \"/tmp/ipykernel_1476132/4039354173.py\", line 25, in <module>\n",
                        "    viz.update()\n",
                        "  File \"/home/daniel/Documents/HW/visualization.py\", line 320, in update\n",
                        "    self.app.processEvents()\n",
                        "  File \"/home/daniel/.local/lib/python3.8/site-packages/pyqtgraph/opengl/GLViewWidget.py\", line 239, in paintGL\n",
                        "    self.drawItemTree(useItemNames=useItemNames)\n",
                        "  File \"/home/daniel/.local/lib/python3.8/site-packages/pyqtgraph/opengl/GLViewWidget.py\", line 271, in drawItemTree\n",
                        "    self.drawItemTree(i, useItemNames=useItemNames)\n",
                        "  File \"/home/daniel/.local/lib/python3.8/site-packages/pyqtgraph/opengl/GLViewWidget.py\", line 260, in drawItemTree\n",
                        "    debug.printExc()\n",
                        "  --- exception caught here ---\n",
                        "  File \"/home/daniel/.local/lib/python3.8/site-packages/pyqtgraph/opengl/GLViewWidget.py\", line 257, in drawItemTree\n",
                        "    i.paint()\n",
                        "  File \"/home/daniel/Documents/HW/visualization.py\", line 781, in paint\n",
                        "    self.GLViewWidget.qglColor(Qt.white)\n",
                        "AttributeError: 'GLViewWidget' object has no attribute 'qglColor'\n",
                        "  debug.printExc()\n"
                    ]
                },
                {
                    "ename": "KeyboardInterrupt",
                    "evalue": "",
                    "output_type": "error",
                    "traceback": [
                        "\u001b[0;31m---------------------------------------------------------------------------\u001b[0m",
                        "\u001b[0;31mKeyboardInterrupt\u001b[0m                         Traceback (most recent call last)",
                        "Cell \u001b[0;32mIn [7], line 26\u001b[0m\n\u001b[1;32m     24\u001b[0m \u001b[38;5;28;01mfor\u001b[39;00m i \u001b[38;5;129;01min\u001b[39;00m \u001b[38;5;28mrange\u001b[39m(refresh_rate \u001b[38;5;241m*\u001b[39m time_to_run):\n\u001b[1;32m     25\u001b[0m     viz\u001b[38;5;241m.\u001b[39mupdate()\n\u001b[0;32m---> 26\u001b[0m     \u001b[43mtime\u001b[49m\u001b[38;5;241;43m.\u001b[39;49m\u001b[43msleep\u001b[49m\u001b[43m(\u001b[49m\u001b[38;5;241;43m1.0\u001b[39;49m\u001b[38;5;241;43m/\u001b[39;49m\u001b[43mrefresh_rate\u001b[49m\u001b[43m)\u001b[49m\n\u001b[1;32m     28\u001b[0m viz\u001b[38;5;241m.\u001b[39mclose_viz()\n",
                        "\u001b[0;31mKeyboardInterrupt\u001b[0m: "
                    ]
                }
            ],
            "source": [
                "# I determined all of the following by inspection (describing the coordinate frame relative to the other frame). \n",
                "T1_in_0 = tr.se3(p=[0, 1, 1])\n",
                "T2_in_0 = tr.se3(p=[-0.5, 1.5, 1.1])\n",
                "T3_in_0 = tr.se3(R=np.array([[0, 1, 0],[1, 0, 0],[0, 0, -1]]), p=[-0.5, 1.5, 3])\n",
                "\n",
                "# now we can calculate T2_to_3 (but getting it by inspection is OK too)\n",
                "T3_in_2 = tr.inv(T2_in_0) @ T3_in_0\n",
                "\n",
                "# printing the results\n",
                "print(T1_in_0)\n",
                "print(T2_in_0)\n",
                "print(T3_in_0)\n",
                "print(T3_in_2)\n",
                "\n",
                "# sending all the frames to our visualization\n",
                "viz = VizScene()\n",
                "viz.add_frame(np.eye(4), label='world')\n",
                "viz.add_frame(T1_in_0, label='T1_in_0')\n",
                "viz.add_frame(T2_in_0, label='T2_in_0')\n",
                "viz.add_frame(T3_in_0, label='T3_in_0')\n",
                "\n",
                "time_to_run = 30\n",
                "refresh_rate = 60\n",
                "for i in range(refresh_rate * time_to_run):\n",
                "    viz.update()\n",
                "    time.sleep(1.0/refresh_rate)\n",
                "    \n",
                "viz.close_viz()\n"
            ]
        },
        {
            "cell_type": "markdown",
            "metadata": {},
            "source": [
                "# Problem 2 (c)"
            ]
        },
        {
            "cell_type": "code",
            "execution_count": 8,
            "metadata": {},
            "outputs": [
                {
                    "name": "stdout",
                    "output_type": "stream",
                    "text": [
                        "new transform of rotated camera frame 3 relative to base frame:\n",
                        "[[ 1.000000e+00  6.123234e-17  0.000000e+00 -5.000000e-01]\n",
                        " [ 6.123234e-17 -1.000000e+00  0.000000e+00  1.500000e+00]\n",
                        " [ 0.000000e+00  0.000000e+00 -1.000000e+00  3.000000e+00]\n",
                        " [ 0.000000e+00  0.000000e+00  0.000000e+00  1.000000e+00]]\n",
                        "new transform of rotated camera frame 3 relative to frame 2:\n",
                        "[[ 1.000000e+00  6.123234e-17  0.000000e+00  0.000000e+00]\n",
                        " [ 6.123234e-17 -1.000000e+00  0.000000e+00  0.000000e+00]\n",
                        " [ 0.000000e+00  0.000000e+00 -1.000000e+00  1.900000e+00]\n",
                        " [ 0.000000e+00  0.000000e+00  0.000000e+00  1.000000e+00]]\n"
                    ]
                }
            ],
            "source": [
                "Tcam = tr.se3(tr.rotz(np.pi/2.0))\n",
                "T3cam_in_0 = T3_in_0 @ Tcam\n",
                "\n",
                "T3cam_in_2 = tr.inv(T2_in_0) @ T3cam_in_0\n",
                "\n",
                "# printing the results\n",
                "print(\"new transform of rotated camera frame 3 relative to base frame:\")\n",
                "print(T3cam_in_0)\n",
                "\n",
                "print(\"new transform of rotated camera frame 3 relative to frame 2:\")\n",
                "print(T3cam_in_2)"
            ]
        },
        {
            "cell_type": "markdown",
            "metadata": {},
            "source": [
                "# Problem 2 (d)-i"
            ]
        },
        {
            "cell_type": "code",
            "execution_count": 9,
            "metadata": {},
            "outputs": [
                {
                    "name": "stderr",
                    "output_type": "stream",
                    "text": [
                        "/home/daniel/.local/lib/python3.8/site-packages/pyqtgraph/opengl/GLViewWidget.py:260: RuntimeWarning: \n",
                        "Traceback (most recent call last):\n",
                        "  File \"/usr/lib/python3.8/runpy.py\", line 194, in _run_module_as_main\n",
                        "    return _run_code(code, main_globals, None,\n",
                        "  File \"/usr/lib/python3.8/runpy.py\", line 87, in _run_code\n",
                        "    exec(code, run_globals)\n",
                        "  File \"/home/daniel/.local/lib/python3.8/site-packages/ipykernel_launcher.py\", line 17, in <module>\n",
                        "    app.launch_new_instance()\n",
                        "  File \"/home/daniel/.local/lib/python3.8/site-packages/traitlets/config/application.py\", line 976, in launch_instance\n",
                        "    app.start()\n",
                        "  File \"/home/daniel/.local/lib/python3.8/site-packages/ipykernel/kernelapp.py\", line 712, in start\n",
                        "    self.io_loop.start()\n",
                        "  File \"/home/daniel/.local/lib/python3.8/site-packages/tornado/platform/asyncio.py\", line 215, in start\n",
                        "    self.asyncio_loop.run_forever()\n",
                        "  File \"/usr/lib/python3.8/asyncio/base_events.py\", line 570, in run_forever\n",
                        "    self._run_once()\n",
                        "  File \"/usr/lib/python3.8/asyncio/base_events.py\", line 1859, in _run_once\n",
                        "    handle._run()\n",
                        "  File \"/usr/lib/python3.8/asyncio/events.py\", line 81, in _run\n",
                        "    self._context.run(self._callback, *self._args)\n",
                        "  File \"/home/daniel/.local/lib/python3.8/site-packages/ipykernel/kernelbase.py\", line 510, in dispatch_queue\n",
                        "    await self.process_one()\n",
                        "  File \"/home/daniel/.local/lib/python3.8/site-packages/ipykernel/kernelbase.py\", line 499, in process_one\n",
                        "    await dispatch(*args)\n",
                        "  File \"/home/daniel/.local/lib/python3.8/site-packages/ipykernel/kernelbase.py\", line 406, in dispatch_shell\n",
                        "    await result\n",
                        "  File \"/home/daniel/.local/lib/python3.8/site-packages/ipykernel/kernelbase.py\", line 730, in execute_request\n",
                        "    reply_content = await reply_content\n",
                        "  File \"/home/daniel/.local/lib/python3.8/site-packages/ipykernel/ipkernel.py\", line 383, in do_execute\n",
                        "    res = shell.run_cell(\n",
                        "  File \"/home/daniel/.local/lib/python3.8/site-packages/ipykernel/zmqshell.py\", line 528, in run_cell\n",
                        "    return super().run_cell(*args, **kwargs)\n",
                        "  File \"/home/daniel/.local/lib/python3.8/site-packages/IPython/core/interactiveshell.py\", line 2885, in run_cell\n",
                        "    result = self._run_cell(\n",
                        "  File \"/home/daniel/.local/lib/python3.8/site-packages/IPython/core/interactiveshell.py\", line 2940, in _run_cell\n",
                        "    return runner(coro)\n",
                        "  File \"/home/daniel/.local/lib/python3.8/site-packages/IPython/core/async_helpers.py\", line 129, in _pseudo_sync_runner\n",
                        "    coro.send(None)\n",
                        "  File \"/home/daniel/.local/lib/python3.8/site-packages/IPython/core/interactiveshell.py\", line 3139, in run_cell_async\n",
                        "    has_raised = await self.run_ast_nodes(code_ast.body, cell_name,\n",
                        "  File \"/home/daniel/.local/lib/python3.8/site-packages/IPython/core/interactiveshell.py\", line 3318, in run_ast_nodes\n",
                        "    if await self.run_code(code, result, async_=asy):\n",
                        "  File \"/home/daniel/.local/lib/python3.8/site-packages/IPython/core/interactiveshell.py\", line 3378, in run_code\n",
                        "    exec(code_obj, self.user_global_ns, self.user_ns)\n",
                        "  File \"/tmp/ipykernel_1476132/3506965190.py\", line 35, in <module>\n",
                        "    viz.update()\n",
                        "  File \"/home/daniel/Documents/HW/visualization.py\", line 320, in update\n",
                        "    self.app.processEvents()\n",
                        "  File \"/home/daniel/.local/lib/python3.8/site-packages/pyqtgraph/opengl/GLViewWidget.py\", line 239, in paintGL\n",
                        "    self.drawItemTree(useItemNames=useItemNames)\n",
                        "  File \"/home/daniel/.local/lib/python3.8/site-packages/pyqtgraph/opengl/GLViewWidget.py\", line 271, in drawItemTree\n",
                        "    self.drawItemTree(i, useItemNames=useItemNames)\n",
                        "  File \"/home/daniel/.local/lib/python3.8/site-packages/pyqtgraph/opengl/GLViewWidget.py\", line 260, in drawItemTree\n",
                        "    debug.printExc()\n",
                        "  --- exception caught here ---\n",
                        "  File \"/home/daniel/.local/lib/python3.8/site-packages/pyqtgraph/opengl/GLViewWidget.py\", line 257, in drawItemTree\n",
                        "    i.paint()\n",
                        "  File \"/home/daniel/Documents/HW/visualization.py\", line 781, in paint\n",
                        "    self.GLViewWidget.qglColor(Qt.white)\n",
                        "AttributeError: 'GLViewWidget' object has no attribute 'qglColor'\n",
                        "  debug.printExc()\n"
                    ]
                },
                {
                    "name": "stdout",
                    "output_type": "stream",
                    "text": [
                        "Error while drawing item <visualization.GLTextItem object at 0x7fe2a519cc10>.\n",
                        "Error while drawing item <visualization.GLTextItem object at 0x7fe2a519c820>.\n",
                        "Error while drawing item <visualization.GLTextItem object at 0x7fe2a519c3a0>.\n",
                        "Error while drawing item <visualization.GLTextItem object at 0x7fe2a51dff70>.\n",
                        "Error while drawing item <visualization.GLTextItem object at 0x7fe2a51bc310>.\n",
                        "Error while drawing item <visualization.GLTextItem object at 0x7fe2a51bc3a0>.\n",
                        "Error while drawing item <visualization.GLTextItem object at 0x7fe2a519cc10>.\n",
                        "Error while drawing item <visualization.GLTextItem object at 0x7fe2a519c820>.\n",
                        "Error while drawing item <visualization.GLTextItem object at 0x7fe2a519c3a0>.\n",
                        "Error while drawing item <visualization.GLTextItem object at 0x7fe2a51dff70>.\n",
                        "Error while drawing item <visualization.GLTextItem object at 0x7fe2a51bc310>.\n",
                        "Error while drawing item <visualization.GLTextItem object at 0x7fe2a51bc3a0>.\n"
                    ]
                },
                {
                    "ename": "KeyboardInterrupt",
                    "evalue": "",
                    "output_type": "error",
                    "traceback": [
                        "\u001b[0;31m---------------------------------------------------------------------------\u001b[0m",
                        "\u001b[0;31mKeyboardInterrupt\u001b[0m                         Traceback (most recent call last)",
                        "Cell \u001b[0;32mIn [9], line 36\u001b[0m\n\u001b[1;32m     34\u001b[0m \u001b[38;5;28;01mfor\u001b[39;00m i \u001b[38;5;129;01min\u001b[39;00m \u001b[38;5;28mrange\u001b[39m(refresh_rate \u001b[38;5;241m*\u001b[39m time_to_run):\n\u001b[1;32m     35\u001b[0m     viz\u001b[38;5;241m.\u001b[39mupdate()\n\u001b[0;32m---> 36\u001b[0m     \u001b[43mtime\u001b[49m\u001b[38;5;241;43m.\u001b[39;49m\u001b[43msleep\u001b[49m\u001b[43m(\u001b[49m\u001b[38;5;241;43m1.0\u001b[39;49m\u001b[38;5;241;43m/\u001b[39;49m\u001b[43mrefresh_rate\u001b[49m\u001b[43m)\u001b[49m\n\u001b[1;32m     38\u001b[0m viz\u001b[38;5;241m.\u001b[39mclose_viz()\n",
                        "\u001b[0;31mKeyboardInterrupt\u001b[0m: "
                    ]
                }
            ],
            "source": [
                "# define a function that takes in DH parameters (including q) and returns A \n",
                "def get_A(dh):\n",
                "    th = dh[0]\n",
                "    d = dh[1]\n",
                "    a = dh[2]\n",
                "    alpha = dh[3]\n",
                "\n",
                "    A = tr.se3(R=tr.rotz(th))\\\n",
                "        @tr.se3(p = np.array([0, 0, d]))\\\n",
                "        @tr.se3(p = np.array([a, 0, 0]))\\\n",
                "        @tr.se3(R=tr.rotx(alpha))             \n",
                "\n",
                "    return A \n",
                "\n",
                "# for the following two test cases, evaluate A1 and A2 and plot them \n",
                "# (showing the robot in two different configurations)\n",
                "q_test = [[0.0, 0.0], [1.2, 0.60]]\n",
                "\n",
                "viz = VizScene()\n",
                "\n",
                "for i in range(2):\n",
                "    dh_params = [[q_test[i][0]+np.pi/2.0, 0.0, 0.2, np.pi/2.0],\n",
                "                 [0, q_test[i][1]+0.30, 0, 0]]\n",
                "    A1 = get_A(dh_params[0])\n",
                "    A2 = get_A(dh_params[1])\n",
                "\n",
                "    viz.add_frame(np.eye(4), label='world')\n",
                "    viz.add_frame(A1, label='A1_config_'+str(i))\n",
                "    viz.add_frame(A1 @ A2, label='A2_config_'+str(i))\n",
                "\n",
                "time_to_run = 30\n",
                "refresh_rate = 60\n",
                "\n",
                "for i in range(refresh_rate * time_to_run):\n",
                "    viz.update()\n",
                "    time.sleep(1.0/refresh_rate)\n",
                "    \n",
                "viz.close_viz()"
            ]
        }
    ],
    "metadata": {
        "kernelspec": {
            "display_name": "Python 3.8.10 64-bit",
            "language": "python",
            "name": "python3"
        },
        "language_info": {
            "codemirror_mode": {
                "name": "ipython",
                "version": 3
            },
            "file_extension": ".py",
            "mimetype": "text/x-python",
            "name": "python",
            "nbconvert_exporter": "python",
            "pygments_lexer": "ipython3",
            "version": "3.8.10"
        },
        "orig_nbformat": 4,
        "vscode": {
            "interpreter": {
                "hash": "e7370f93d1d0cde622a1f8e1c04877d8463912d04d973331ad4851f04de6915a"
            }
        }
    },
    "nbformat": 4,
    "nbformat_minor": 2
}
