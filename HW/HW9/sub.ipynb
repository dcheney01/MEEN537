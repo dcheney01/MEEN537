{
 "cells": [
  {
   "cell_type": "code",
   "execution_count": 2,
   "metadata": {},
   "outputs": [
    {
     "name": "stdout",
     "output_type": "stream",
     "text": [
      "[[0 0 0]\n",
      " [0 0 0]\n",
      " [0 0 1]]\n",
      "[[0 0 0]\n",
      " [0 1 0]\n",
      " [0 0 1]]\n",
      "[[0 0 0]\n",
      " [0 1 0]\n",
      " [0 0 2]]\n"
     ]
    }
   ],
   "source": [
    "import numpy as np\n",
    "\n",
    "Jv1 = np.array([[0,0,1],\n",
    "                [0,0,0],\n",
    "                [0,0,0]])\n",
    "\n",
    "Jv2 = np.array([[0,0,1],\n",
    "                [0,1,0],\n",
    "                [0,0,0]])\n",
    "\n",
    "Jv3 = np.array([[0,0,1],\n",
    "                [0,1,0],\n",
    "                [0,0,1]])\n",
    "\n",
    "print(Jv1.T@Jv1)\n",
    "print(Jv2.T@Jv2)\n",
    "print(Jv3.T@Jv3)"
   ]
  }
 ],
 "metadata": {
  "kernelspec": {
   "display_name": "Python 3.8.10 64-bit",
   "language": "python",
   "name": "python3"
  },
  "language_info": {
   "codemirror_mode": {
    "name": "ipython",
    "version": 3
   },
   "file_extension": ".py",
   "mimetype": "text/x-python",
   "name": "python",
   "nbconvert_exporter": "python",
   "pygments_lexer": "ipython3",
   "version": "3.8.10"
  },
  "orig_nbformat": 4,
  "vscode": {
   "interpreter": {
    "hash": "e7370f93d1d0cde622a1f8e1c04877d8463912d04d973331ad4851f04de6915a"
   }
  }
 },
 "nbformat": 4,
 "nbformat_minor": 2
}
