{
 "cells": [
  {
   "cell_type": "code",
   "execution_count": 1,
   "metadata": {},
   "outputs": [
    {
     "name": "stdout",
     "output_type": "stream",
     "text": [
      "[0.15   0.4518 0.     0.     0.     1.    ]\n",
      "\n",
      "[ 0.      0.4518 -0.15    1.      0.      0.    ]\n"
     ]
    }
   ],
   "source": [
    "# 1 ===========================================================\n",
    "import sys\n",
    "sys.path.append(\"C:/Users/danie/Documents/School/MEEN537/HW\")\n",
    "sys.path.append(\"/home/daniel/Documents/MEEN537/HW/\")\n",
    "import kinematics as kin\n",
    "# from visualization import VizScene\n",
    "import sympy as sp\n",
    "import numpy as np\n",
    "import time\n",
    "np.set_printoptions(precision=4, suppress=True)\n",
    "\n",
    "# Define the arm\n",
    "dh = [[0, 0, 0, np.pi/2.0],\n",
    "      [0, 0, 0.4318, 0],\n",
    "      [0, 0.15, 0.02, -np.pi/2],\n",
    "      [0, 0.4318, 0, np.pi/2],\n",
    "      [0, 0, 0, -np.pi/2],\n",
    "      [0, 0, 0, 0]]\n",
    "\n",
    "jt_types = ['r']*6\n",
    "T6_tool = np.array([[0,  0, 1, 0], \n",
    "                    [0,  1, 0, 0], \n",
    "                    [-1, 0, 0, 0.2], \n",
    "                    [0,  0, 0, 1]])\n",
    "\n",
    "arm = kin.SerialArm(dh, jt=jt_types, tip=T6_tool)\n",
    "q0 = [0]*6\n",
    "J_06 = arm.jacob(q=q0, tip=True) \n",
    "\n",
    "p_tool_ntool = T6_tool[:3, -1]\n",
    "R_tool0 = arm.fk(q0, tip=True)[:3, :3]\n",
    "J_tooltool = arm.Z_shift(R=R_tool0, p=p_tool_ntool, p_frame='j') @ J_06\n",
    "\n",
    "# print(J_tooltool)\n",
    "\n",
    "# See how the velocities compare for J in tool at tool and J in base frame at end effector\n",
    "qdot = np.array([1,0,0,0,0,0])\n",
    "\n",
    "print(J_06 @ qdot)\n",
    "print()\n",
    "print(J_tooltool @ qdot)\n"
   ]
  },
  {
   "cell_type": "code",
   "execution_count": null,
   "metadata": {},
   "outputs": [],
   "source": [
    "import dynamics as dyn\n",
    "dh = [[0, 0, 0.4, 0],\n",
    "      [0, 0, 0.4, 0],\n",
    "      [0, 0, 0.4, 0]]\n",
    "\n",
    "link_mass = 1   # kg per link\n",
    "Izz = 0.1\n",
    "com = 0.2 # distance of com from link\n",
    "\n",
    "jt_types = ['r'] * 3\n",
    "q = [0] * 3\n",
    "arm = dyn.SerialArm(kin.SerialArm(dh, jt=jt_types))\n",
    "\n",
    "arm = SerialArmDyn(dh,\n",
    "                  jt=joint_type,\n",
    "                  mass=link_masses,\n",
    "                  r_com=r_coms,\n",
    "                  link_inertia=link_inertias)"
   ]
  }
 ],
 "metadata": {
  "kernelspec": {
   "display_name": "Python 3.7.11 ('pyt37')",
   "language": "python",
   "name": "python3"
  },
  "language_info": {
   "codemirror_mode": {
    "name": "ipython",
    "version": 3
   },
   "file_extension": ".py",
   "mimetype": "text/x-python",
   "name": "python",
   "nbconvert_exporter": "python",
   "pygments_lexer": "ipython3",
   "version": "3.7.11"
  },
  "orig_nbformat": 4,
  "vscode": {
   "interpreter": {
    "hash": "69e3d768710f0a184c29e98d125782cd2b931de38965008191db5552bf80cd38"
   }
  }
 },
 "nbformat": 4,
 "nbformat_minor": 2
}
