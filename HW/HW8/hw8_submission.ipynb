{
 "cells": [
  {
   "cell_type": "code",
   "execution_count": 1,
   "metadata": {},
   "outputs": [
    {
     "name": "stdout",
     "output_type": "stream",
     "text": [
      "[0.15   0.4518 0.     0.     0.     1.    ]\n",
      "\n",
      "[ 0.      0.4518 -0.15    1.      0.      0.    ]\n"
     ]
    }
   ],
   "source": [
    "# 1 ===========================================================\n",
    "import sys\n",
    "sys.path.append(\"C:/Users/danie/Documents/School/MEEN537/HW\")\n",
    "sys.path.append(\"/home/daniel/Documents/MEEN537/HW/\")\n",
    "import kinematics as kin\n",
    "# from visualization import VizScene\n",
    "import sympy as sp\n",
    "import numpy as np\n",
    "import time\n",
    "np.set_printoptions(precision=4, suppress=True)\n",
    "\n",
    "# Define the arm\n",
    "dh = [[0, 0, 0, np.pi/2.0],\n",
    "      [0, 0, 0.4318, 0],\n",
    "      [0, 0.15, 0.02, -np.pi/2],\n",
    "      [0, 0.4318, 0, np.pi/2],\n",
    "      [0, 0, 0, -np.pi/2],\n",
    "      [0, 0, 0, 0]]\n",
    "\n",
    "jt_types = ['r']*6\n",
    "T6_tool = np.array([[0,  0, 1, 0], \n",
    "                    [0,  1, 0, 0], \n",
    "                    [-1, 0, 0, 0.2], \n",
    "                    [0,  0, 0, 1]])\n",
    "\n",
    "arm = kin.SerialArm(dh, jt=jt_types, tip=T6_tool)\n",
    "q0 = [0]*6\n",
    "J_06 = arm.jacob(q=q0, tip=True) \n",
    "\n",
    "p_tool_ntool = T6_tool[:3, -1]\n",
    "R_tool0 = arm.fk(q0, tip=True)[:3, :3]\n",
    "J_tooltool = arm.Z_shift(R=R_tool0, p=p_tool_ntool, p_frame='j') @ J_06\n",
    "\n",
    "# print(J_tooltool)\n",
    "\n",
    "# See how the velocities compare for J in tool at tool and J in base frame at end effector\n",
    "qdot = np.array([1,0,0,0,0,0])\n",
    "\n",
    "print(J_06 @ qdot)\n",
    "print()\n",
    "print(J_tooltool @ qdot)\n"
   ]
  },
  {
   "cell_type": "code",
   "execution_count": 7,
   "metadata": {},
   "outputs": [
    {
     "ename": "ValueError",
     "evalue": "matmul: Input operand 1 does not have enough dimensions (has 0, gufunc core with signature (n?,k),(k,m?)->(n?,m?) requires 1)",
     "output_type": "error",
     "traceback": [
      "\u001b[0;31m---------------------------------------------------------------------------\u001b[0m",
      "\u001b[0;31mValueError\u001b[0m                                Traceback (most recent call last)",
      "Cell \u001b[0;32mIn [7], line 33\u001b[0m\n\u001b[1;32m     31\u001b[0m qd \u001b[39m=\u001b[39m [np\u001b[39m.\u001b[39mpi\u001b[39m/\u001b[39m\u001b[39m6\u001b[39m, \u001b[39m-\u001b[39mnp\u001b[39m.\u001b[39mpi\u001b[39m/\u001b[39m\u001b[39m4\u001b[39m, np\u001b[39m.\u001b[39mpi\u001b[39m/\u001b[39m\u001b[39m3\u001b[39m]\n\u001b[1;32m     32\u001b[0m qdd \u001b[39m=\u001b[39m [\u001b[39m-\u001b[39mnp\u001b[39m.\u001b[39mpi\u001b[39m/\u001b[39m\u001b[39m6\u001b[39m, np\u001b[39m.\u001b[39mpi\u001b[39m/\u001b[39m\u001b[39m3\u001b[39m, np\u001b[39m.\u001b[39mpi\u001b[39m/\u001b[39m\u001b[39m6\u001b[39m]\n\u001b[0;32m---> 33\u001b[0m arm\u001b[39m.\u001b[39;49mrne(q, qd, qdd)\n",
      "File \u001b[0;32m~/Documents/MEEN537/HW/dynamics.py:98\u001b[0m, in \u001b[0;36mSerialArmDyn.rne\u001b[0;34m(self, q, qd, qdd, Wext, g, omega_base, alpha_base, v_base, acc_base)\u001b[0m\n\u001b[1;32m     95\u001b[0m r_e \u001b[39m=\u001b[39m \u001b[39mself\u001b[39m\u001b[39m.\u001b[39mr_com \u001b[39m*\u001b[39m \u001b[39m2\u001b[39m\n\u001b[1;32m     96\u001b[0m \u001b[39m# g_i = R_i0 @ g\u001b[39;00m\n\u001b[0;32m---> 98\u001b[0m w \u001b[39m=\u001b[39m (R_i_i1 \u001b[39m@\u001b[39m omegas[\u001b[39m-\u001b[39m\u001b[39m1\u001b[39m]) \u001b[39m+\u001b[39m (z \u001b[39m@\u001b[39;49m qd[i])\n\u001b[1;32m     99\u001b[0m alph \u001b[39m=\u001b[39m (R_i_i1 \u001b[39m@\u001b[39m alphas[\u001b[39m-\u001b[39m\u001b[39m1\u001b[39m]) \u001b[39m+\u001b[39m (z \u001b[39m@\u001b[39m qdd[i]) \u001b[39m+\u001b[39m np\u001b[39m.\u001b[39mcross(w, (z \u001b[39m@\u001b[39m qd[i]))\n\u001b[1;32m    100\u001b[0m a_c \u001b[39m=\u001b[39m R_i_i1 \u001b[39m@\u001b[39m acc_ends[\u001b[39m-\u001b[39m\u001b[39m1\u001b[39m] \u001b[39m+\u001b[39m np\u001b[39m.\u001b[39mcross(alph, r_c) \u001b[39m+\u001b[39m np\u001b[39m.\u001b[39mcross(w, np\u001b[39m.\u001b[39mcross(w, r_c))\n",
      "\u001b[0;31mValueError\u001b[0m: matmul: Input operand 1 does not have enough dimensions (has 0, gufunc core with signature (n?,k),(k,m?)->(n?,m?) requires 1)"
     ]
    }
   ],
   "source": [
    "import sys\n",
    "sys.path.append(\"C:/Users/danie/Documents/School/MEEN537/HW\")\n",
    "sys.path.append(\"/home/daniel/Documents/MEEN537/HW/\")\n",
    "import kinematics as kin\n",
    "# from visualization import VizScene\n",
    "import sympy as sp\n",
    "import numpy as np\n",
    "import dynamics as dyn\n",
    "\n",
    "dh = [[0, 0, 0.4, 0],\n",
    "      [0, 0, 0.4, 0],\n",
    "      [0, 0, 0.4, 0]]\n",
    "\n",
    "n = 3\n",
    "jt_types = ['r'] * n\n",
    "link_mass = [1] * n   # kg per link\n",
    "r_coms = [np.array([-0.2, 0, 0])] * n\n",
    "Izz = 0.1\n",
    "\n",
    "link_inertias = []\n",
    "for i in range(n):\n",
    "      link_inertias.append(np.array([[0, 0, 0], [0, 0, 0], [0, 0, 0.01]]))\n",
    "\n",
    "arm = dyn.SerialArmDyn(dh,\n",
    "                        jt=jt_types,\n",
    "                        mass=link_mass,\n",
    "                        r_com=r_coms,\n",
    "                        link_inertia=link_inertias)\n",
    "\n",
    "q = [np.pi/4.0]*n\n",
    "qd = [np.pi/6, -np.pi/4, np.pi/3]\n",
    "qdd = [-np.pi/6, np.pi/3, np.pi/6]\n",
    "arm.rne(q, qd, qdd)"
   ]
  }
 ],
 "metadata": {
  "kernelspec": {
   "display_name": "Python 3.8.10 64-bit",
   "language": "python",
   "name": "python3"
  },
  "language_info": {
   "codemirror_mode": {
    "name": "ipython",
    "version": 3
   },
   "file_extension": ".py",
   "mimetype": "text/x-python",
   "name": "python",
   "nbconvert_exporter": "python",
   "pygments_lexer": "ipython3",
   "version": "3.8.10"
  },
  "orig_nbformat": 4,
  "vscode": {
   "interpreter": {
    "hash": "e7370f93d1d0cde622a1f8e1c04877d8463912d04d973331ad4851f04de6915a"
   }
  }
 },
 "nbformat": 4,
 "nbformat_minor": 2
}
