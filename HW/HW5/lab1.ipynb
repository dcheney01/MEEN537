{
 "cells": [
  {
   "cell_type": "code",
   "execution_count": 20,
   "metadata": {},
   "outputs": [
    {
     "name": "stdout",
     "output_type": "stream",
     "text": [
      "position 1: \n",
      " [[ 0.4139 -0.3767 -0.8288 -0.3011]\n",
      " [ 0.1289 -0.877   0.4629 -0.0429]\n",
      " [-0.9012 -0.2984 -0.3144 -0.1982]\n",
      " [ 0.      0.      0.      1.    ]]\n",
      "\n",
      "position 2: \n",
      " [[ 0.9809  0.1941  0.0118  0.4734]\n",
      " [ 0.1912 -0.9735  0.1253 -0.2208]\n",
      " [ 0.0358 -0.1206 -0.9921 -0.4065]\n",
      " [ 0.      0.      0.      1.    ]]\n",
      "\n",
      "position 3: \n",
      " [[-0.2261 -0.9731  0.0441  0.4616]\n",
      " [ 0.0948 -0.067  -0.9932 -0.552 ]\n",
      " [ 0.9695 -0.2204  0.1074 -0.2551]\n",
      " [ 0.      0.      0.      1.    ]]\n",
      "\n",
      "position 4: \n",
      " [[ 0.7132  0.0929  0.6948  0.401 ]\n",
      " [ 0.1048 -0.9942  0.0254 -0.1327]\n",
      " [ 0.6931  0.0547 -0.7188 -0.4438]\n",
      " [ 0.      0.      0.      1.    ]]\n"
     ]
    }
   ],
   "source": [
    "# 2 (b) ===========================================================\n",
    "import sys\n",
    "sys.path.append(\"C:/Users/danie/Documents/School/MEEN537/HW\")\n",
    "sys.path.append(\"/home/daniel/Documents/MEEN537/HW/\")\n",
    "import kinematics as kin\n",
    "import transforms as tr\n",
    "import numpy as np\n",
    "np.set_printoptions(precision=4, suppress=True)\n",
    "\n",
    "\n",
    "L1 = 0.69\n",
    "L2 = .36435\n",
    "L3 = 0.69\n",
    "L4 = .37429\n",
    "L5 = .01\n",
    "L6 = .3683\n",
    "\n",
    "# dh = [[0, 0, 0, 0],            # s0\n",
    "#       [np.pi/2.0, 0, L1, -np.pi/2],           # s1\n",
    "#       [0, L2, 0, np.pi/2.0],      # e0\n",
    "#       [0, 0, L3, -np.pi/2.0],          # e1\n",
    "      \n",
    "#       [0, L4, 0, np.pi/2.0],  # w0\n",
    "#       [0, 0, L5, -np.pi/2.0],                 # w1\n",
    "#       [0, 0, 0, np.pi/2]]                     # w2\n",
    "\n",
    "dh = [[0, .27035, 0, -np.pi/2.0],           # s0\n",
    "      [np.pi/2.0, 0, 0, np.pi/2],           # s1\n",
    "      [0, .069+.36435, 0, -np.pi/2.0],      # e0\n",
    "      [-np.pi/2, 0, 0, np.pi/2.0],          # e1\n",
    "      [0, .37442+.069, -0.01, -np.pi/2.0],  # w0\n",
    "      [0, 0, 0, np.pi/2.0],                 # w1\n",
    "      [0, .2295, 0, 0]]                     # w2\n",
    "\n",
    "dh = [[0, .27035, 0.069, np.pi/2.0],           # s0\n",
    "      [np.pi/2.0, 0, 0, np.pi/2],           # s1\n",
    "      [0, .36435, -0.069, -np.pi/2.0],      # e0\n",
    "      [-np.pi/2, 0, 0, np.pi/2.0],          # e1\n",
    "      [0, .37442, -0.01, -np.pi/2.0],  # w0\n",
    "      [0, 0, 0, np.pi/2.0],                 # w1\n",
    "      [0, .2295, 0, 0]]                     # w2\n",
    "\n",
    "jt_types = ['r', 'r', 'r', 'r', 'r', 'r', 'r']\n",
    "base = tr.se3(tr.rotz(-np.pi/4), np.array([0.06353, -.2597, .119]))\n",
    "arm = kin.SerialArm(dh, jt=jt_types, base=base)\n",
    "\n",
    "# defining two different sets of joint angles\n",
    "q_set1 = [0.49816026, -1.19113608,  0.1434272,   0.02109224, -2.38994207,  0.09894176, 2.15102456]\n",
    "q_set2 = [0.72902437, -0.36815539,  0.09779128,  0.40612141, -2.37191779,  0.05023787, 2.08621387]\n",
    "q_set3 = [0.62087872, -1.00168945,  0.10814565,  1.51403904, -1.91325754, -1.56926235,  2.86317514]\n",
    "q_set4 = [1.18461666, -0.76775738,  0.11850002,  0.54417968, -2.83863145, -1.01050984,  3.0422674 ]\n",
    "\n",
    "print(f\"position 1: \\n {arm.fk(q_set1, base=True)}\")\n",
    "print()\n",
    "print(f\"position 2: \\n {arm.fk(q_set2, base=True)}\")\n",
    "print()\n",
    "print(f\"position 3: \\n {arm.fk(q_set3, base=True)}\")\n",
    "print()\n",
    "print(f\"position 4: \\n {arm.fk(q_set4, base=True)}\")\n"
   ]
  },
  {
   "cell_type": "code",
   "execution_count": null,
   "metadata": {},
   "outputs": [],
   "source": [
    "# print(\"First Position, J is:\")\n",
    "# print(J1)\n",
    "# print(\"Second Position, J is:\")\n",
    "# print(J2)\n",
    "# print(\"Third Position, J is:\")\n",
    "# print(J3)\n",
    "# print(\"Fourth Position, J is:\")\n",
    "# print(J4)\n",
    "\n",
    "\n",
    "# calculating two different jacobians for the two different joint configurations. \n",
    "# J1 = arm.jacob(q_set1)\n",
    "# J2 = arm.jacob(q_set2)\n",
    "# J3 = arm.jacob(q_set3)\n",
    "# J4 = arm.jacob(q_set4)"
   ]
  }
 ],
 "metadata": {
  "kernelspec": {
   "display_name": "Python 3.7.11 ('pyt37')",
   "language": "python",
   "name": "python3"
  },
  "language_info": {
   "codemirror_mode": {
    "name": "ipython",
    "version": 3
   },
   "file_extension": ".py",
   "mimetype": "text/x-python",
   "name": "python",
   "nbconvert_exporter": "python",
   "pygments_lexer": "ipython3",
   "version": "3.7.11"
  },
  "orig_nbformat": 4,
  "vscode": {
   "interpreter": {
    "hash": "69e3d768710f0a184c29e98d125782cd2b931de38965008191db5552bf80cd38"
   }
  }
 },
 "nbformat": 4,
 "nbformat_minor": 2
}
