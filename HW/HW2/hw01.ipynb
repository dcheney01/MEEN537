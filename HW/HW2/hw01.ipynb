{
    "cells": [
        {
            "cell_type": "markdown",
            "metadata": {},
            "source": [
                "# HW 1: Introduction and Setup\n",
                "* Copy this file, and the file \"visualization.py\" from Learning Suite into \"/home/controls/robotics_hw/\"\n",
                "* Run this notebook and check the output\n",
                "* If things are set up correctly, you should see two coordinate frames appear in a new window.\n",
                "* Play with these values a little to start to get some intuition for what these matrices mean.  "
            ]
        },
        {
            "cell_type": "code",
            "execution_count": 1,
            "metadata": {},
            "outputs": [],
            "source": [
                "# this cell will fail if you haven't correctly copied the visualization.py file from Learning Suite\n",
                "import numpy as np\n",
                "import time\n",
                "from visualization import VizScene \n",
                "\n",
                "Tw_to_frame1 = np.array([[1, 0,  0,  1],\n",
                "                         [0, 0, -1,  0],\n",
                "                         [0, 1,  0,  0],\n",
                "                         [0, 0,  0,  1]])\n",
                "                         \n",
                "viz = VizScene()\n",
                "viz.add_frame(np.eye(4), label='world')\n",
                "viz.add_frame(Tw_to_frame1, label='frame1')\n",
                "\n",
                "time_to_run = 10\n",
                "refresh_rate = 60\n",
                "for i in range(refresh_rate * time_to_run):\n",
                "    viz.update()\n",
                "    time.sleep(1.0/refresh_rate)\n",
                "    \n",
                "viz.close_viz()\n"
            ]
        }
    ],
    "metadata": {
        "kernelspec": {
            "display_name": "Python 3.8.10 64-bit",
            "language": "python",
            "name": "python3"
        },
        "language_info": {
            "codemirror_mode": {
                "name": "ipython",
                "version": 3
            },
            "file_extension": ".py",
            "mimetype": "text/x-python",
            "name": "python",
            "nbconvert_exporter": "python",
            "pygments_lexer": "ipython3",
            "version": "3.8.10"
        },
        "orig_nbformat": 4,
        "vscode": {
            "interpreter": {
                "hash": "e7370f93d1d0cde622a1f8e1c04877d8463912d04d973331ad4851f04de6915a"
            }
        }
    },
    "nbformat": 4,
    "nbformat_minor": 2
}
