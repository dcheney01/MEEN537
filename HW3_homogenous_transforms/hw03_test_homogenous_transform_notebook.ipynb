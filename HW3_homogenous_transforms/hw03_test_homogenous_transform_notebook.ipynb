{
    "cells": [
        {
            "cell_type": "code",
            "execution_count": 9,
            "metadata": {},
            "outputs": [],
            "source": [
                "import sys\n",
                "sys.path.append(\"/home/daniel/software/MEEN537/\")\n",
                "\n",
                "import transforms as tr\n",
                "import numpy as np\n",
                "from visualization import VizScene \n",
                "np.set_printoptions(precision=3, suppress=True)\n"
            ]
        },
        {
            "cell_type": "markdown",
            "metadata": {},
            "source": [
                "## Homogeneous matrix made of only rotation about z-axis by amount $\\frac{\\pi}{4}$\n",
                "\n",
                "Rotation by amount theta around the z-axis should give the following:\n",
                "$$\n",
                "\\left[\\begin{matrix}0.707 & -0.707 & 0 & 0\\\\ 0.707 & 0.707 & 0 & 0\\\\0 & 0 & 1 & 0\\\\0 & 0 & 0 & 1\\end{matrix}\\right]\n",
                "$$"
            ]
        },
        {
            "cell_type": "code",
            "execution_count": 4,
            "metadata": {},
            "outputs": [
                {
                    "name": "stdout",
                    "output_type": "stream",
                    "text": [
                        "Homogeneous Transform:\n",
                        "⎡0.9999   -0.01371   0    0 ⎤\n",
                        "⎢                           ⎥\n",
                        "⎢0.01371   0.9999    0    0 ⎥\n",
                        "⎢                           ⎥\n",
                        "⎢   0        0      1.0   0 ⎥\n",
                        "⎢                           ⎥\n",
                        "⎣   0        0       0   1.0⎦\n"
                    ]
                }
            ],
            "source": [
                "T = tr.SE3(tr.rotz(np.pi/4))\n",
                "print(T)"
            ]
        },
        {
            "cell_type": "markdown",
            "metadata": {},
            "source": [
                "## Translation only along the x-axis by an amount $0.5$ should give the following:\n",
                "$$\n",
                "\\left[\\begin{matrix}1 & 0 & 0 & 0.5 \\\\0 & 1 & 0 & 0\\\\0 & 0 & 1 & 0\\\\0 & 0 & 0 & 1\\end{matrix}\\right]\n",
                "$$"
            ]
        },
        {
            "cell_type": "code",
            "execution_count": 5,
            "metadata": {},
            "outputs": [
                {
                    "name": "stdout",
                    "output_type": "stream",
                    "text": [
                        "Homogeneous Transform:\n",
                        "⎡1.0   0    0   0.5⎤\n",
                        "⎢                  ⎥\n",
                        "⎢ 0   1.0   0    0 ⎥\n",
                        "⎢                  ⎥\n",
                        "⎢ 0    0   1.0   0 ⎥\n",
                        "⎢                  ⎥\n",
                        "⎣ 0    0    0   1.0⎦\n"
                    ]
                }
            ],
            "source": [
                "T = tr.SE3(p=[0.5, 0, 0])\n",
                "print(T)"
            ]
        },
        {
            "cell_type": "markdown",
            "metadata": {},
            "source": [
                "# Checking the \"inv\" function\n",
                "\n",
                "If we calculate a homogenous transform with a rotation of 45 degrees about the x-axis and a general translation ($[0.5, 0.25, 0.3]^T$) we get the following:\n",
                "$$\n",
                "\\left[\\begin{matrix}1 & 0 & 0 & 0.5\\\\0 & 0.707106781186548 & -0.707106781186547 & 0.25\\\\0 & 0.707106781186547 & 0.707106781186548 & 0.3\\\\0 & 0 & 0 & 1\\end{matrix}\\right]\n",
                "$$\n",
                "\n",
                "Then, we can multiply the original transform by its inverse to check out inverse function, we should get the following:\n",
                "$$\n",
                "\\left[\\begin{matrix}1 & 0 & 0 & 0\\\\0 & 1.0 & 0 & 0\\\\0 & 0 & 1.0 & 0\\\\0 & 0 & 0 & 1\\end{matrix}\\right]\n",
                "$$"
            ]
        },
        {
            "cell_type": "code",
            "execution_count": 11,
            "metadata": {},
            "outputs": [
                {
                    "name": "stdout",
                    "output_type": "stream",
                    "text": [
                        "\n",
                        "\n",
                        " inv(T) @ T should give identity matrix:\n",
                        "Homogeneous Transform:\n",
                        "⎡1.0   0    0    0 ⎤\n",
                        "⎢                  ⎥\n",
                        "⎢ 0   1.0   0    0 ⎥\n",
                        "⎢                  ⎥\n",
                        "⎢ 0    0   1.0   0 ⎥\n",
                        "⎢                  ⎥\n",
                        "⎣ 0    0    0   1.0⎦\n"
                    ]
                }
            ],
            "source": [
                "T = tr.SE3(tr.rotx(np.pi/4), [0.5, 0.25, 0.3])\n",
                "# print(T)\n",
                "\n",
                "# now we can check if we implemented \"inv\" correctly:\n",
                "check = T.inv() @ T\n",
                "print(\"\\n\\n inv(T) @ T should give identity matrix:\")\n",
                "print(check)\n"
            ]
        },
        {
            "cell_type": "markdown",
            "metadata": {},
            "source": [
                "# Transform a point in one frame to another frame\n"
            ]
        },
        {
            "cell_type": "markdown",
            "metadata": {},
            "source": [
                "## DH parameters combined for a single joint:\n",
                "\n",
                "Remember that if we combine a rotation in z, translation in z, then translation in x, and rotation in x, we should get the same result as the book for following the DH convention to move from one frame (or joint) to another as follows: \n",
                "\n",
                "$$\n",
                "\\left[\\begin{matrix}\\cos{\\left(\\theta \\right)} & - \\sin{\\left(\\theta \\right)} \\cos{\\left(\\alpha \\right)} & \\sin{\\left(\\alpha \\right)} \\sin{\\left(\\theta \\right)} & a \\cos{\\left(\\theta \\right)}\\\\\\sin{\\left(\\theta \\right)} & \\cos{\\left(\\alpha \\right)} \\cos{\\left(\\theta \\right)} & - \\sin{\\left(\\alpha \\right)} \\cos{\\left(\\theta \\right)} & a \\sin{\\left(\\theta \\right)}\\\\0 & \\sin{\\left(\\alpha \\right)} & \\cos{\\left(\\alpha \\right)} & d\\\\0 & 0 & 0 & 1\\end{matrix}\\right]\n",
                "$$\n",
                "\n",
                "In future homework, we'll implement representations of robot arms that include this transformation. But for the test values of DH parameters below, we can perform this sequence of operations manually.  \n",
                "\n",
                "Assuming the following DH parameters for two joints:\n",
                "\n",
                "$\\theta_1 = \\frac{\\pi}{8}$, $d_1 = 0$, $a_1 = 0.3$, $\\alpha_1 = \\frac{\\pi}{2}$\n",
                "\n",
                "$\\theta_2 = \\frac{\\pi}{4}$, $d_2 = 0$, $a_2 = 0.3$, $\\alpha_2 = 0$\n",
                "\n",
                "\n",
                "The resulting homogeneous transform describing the tip (or frame 2) relate to frame 0 would be:\n",
                "\n",
                "$$\n",
                "\\left[\\begin{matrix}0.653281482438188 & -0.653281482438188 & 0.38268343236509 & 0.473148304484842\\\\0.270598050073099 & -0.270598050073099 & -0.923879532511287 & 0.195984444731456\\\\0.707106781186548 & 0.707106781186548 & 0 & 0.212132034355964\\\\0 & 0 & 0 & 1.0\\end{matrix}\\right]\n",
                "$$"
            ]
        },
        {
            "cell_type": "code",
            "execution_count": 13,
            "metadata": {},
            "outputs": [
                {
                    "name": "stdout",
                    "output_type": "stream",
                    "text": [
                        "Homogeneous Transform:\n",
                        "⎡ 0.9998    -0.02056  0.0001879   0.5999  ⎤\n",
                        "⎢                                         ⎥\n",
                        "⎢ 0.02056    0.9994   -0.02741   0.008223 ⎥\n",
                        "⎢                                         ⎥\n",
                        "⎢0.0003757  0.02741    0.9996    0.0001127⎥\n",
                        "⎢                                         ⎥\n",
                        "⎣    0         0          0         1.0   ⎦\n"
                    ]
                }
            ],
            "source": [
                "# start by substituting the actual values for R and p and making a new SE3 object\n",
                "# that describes the transformation from frame 0 to frame 1\n",
                "\n",
                "# find the transformation from frame 0 to 1\n",
                "T1_in_0 = (tr.SE3(tr.rotz(np.pi/8), [0, 0, 0]) @ \n",
                "            tr.SE3(tr.rotx(np.pi/2), [0.3,0,0]))\n",
                "\n",
                "# do the same thing for frame 1 to frame 2\n",
                "T2_in_1 = (tr.SE3(tr.rotz(np.pi/4), [0,0,0]) @ \n",
                "            tr.SE3(tr.rotx(0), [0.3, 0, 0]))\n",
                "\n",
                "# now we can combine the two to get a transformation that describes frame 2 \n",
                "# relative to frame 0\n",
                "T2_in_0 = T1_in_0 @ T2_in_1\n",
                "\n",
                "# printing the result\n",
                "print(T2_in_0)\n"
            ]
        },
        {
            "cell_type": "code",
            "execution_count": 14,
            "metadata": {},
            "outputs": [
                {
                    "name": "stdout",
                    "output_type": "stream",
                    "text": [
                        "T01:\n",
                        "Homogeneous Transform:\n",
                        "⎡1.0   0    0    0 ⎤\n",
                        "⎢                  ⎥\n",
                        "⎢ 0   1.0   0   1.0⎥\n",
                        "⎢                  ⎥\n",
                        "⎢ 0    0   1.0  1.0⎥\n",
                        "⎢                  ⎥\n",
                        "⎣ 0    0    0   1.0⎦\n",
                        "T02:\n",
                        "Homogeneous Transform:\n",
                        "⎡1.0   0    0   -0.5⎤\n",
                        "⎢                   ⎥\n",
                        "⎢ 0   1.0   0   1.5 ⎥\n",
                        "⎢                   ⎥\n",
                        "⎢ 0    0   1.0  1.1 ⎥\n",
                        "⎢                   ⎥\n",
                        "⎣ 0    0    0   1.0 ⎦\n",
                        "T03:\n",
                        "Homogeneous Transform:\n",
                        "⎡ 0.9996    0.02741     0     -0.5⎤\n",
                        "⎢                                 ⎥\n",
                        "⎢-0.02737   0.9981   -0.0548  1.5 ⎥\n",
                        "⎢                                 ⎥\n",
                        "⎢-0.001502  0.05478  0.9985   3.0 ⎥\n",
                        "⎢                                 ⎥\n",
                        "⎣    0         0        0     1.0 ⎦\n",
                        "T23:\n",
                        "Homogeneous Transform:\n",
                        "⎡ 0.9996    0.02741     0      0 ⎤\n",
                        "⎢                                ⎥\n",
                        "⎢-0.02737   0.9981   -0.0548   0 ⎥\n",
                        "⎢                                ⎥\n",
                        "⎢-0.001502  0.05478  0.9985   1.9⎥\n",
                        "⎢                                ⎥\n",
                        "⎣    0         0        0     1.0⎦\n"
                    ]
                }
            ],
            "source": [
                "################# Problem 2-37 ################################\n",
                "T01 = tr.SE3(np.eye(3), [0, 1, 1]) # No rotation, 1m in y and z\n",
                "\n",
                "T02 = tr.SE3(np.eye(3), [-0.5, 1.5, 1.1]) # No rotation\n",
                "\n",
                "T03 = tr.SE3(tr.rotx(np.pi) @ tr.rotz(-np.pi/2), [-0.5, 1.5, 3])\n",
                "\n",
                "T23 = tr.SE3(tr.rotx(np.pi) @ tr.rotz(-np.pi/2), [0, 0, 1.9])\n",
                "\n",
                "print(\"T01:\")\n",
                "print(T01)\n",
                "print(\"T02:\")\n",
                "print(T02)\n",
                "print(\"T03:\")\n",
                "print(T03)\n",
                "print(\"T23:\")\n",
                "print(T23)"
            ]
        }
    ],
    "metadata": {
        "kernelspec": {
            "display_name": "Python 3",
            "language": "python",
            "name": "python3"
        },
        "language_info": {
            "codemirror_mode": {
                "name": "ipython",
                "version": 3
            },
            "file_extension": ".py",
            "mimetype": "text/x-python",
            "name": "python",
            "nbconvert_exporter": "python",
            "pygments_lexer": "ipython3",
            "version": "3.8.10"
        },
        "orig_nbformat": 4,
        "vscode": {
            "interpreter": {
                "hash": "916dbcbb3f70747c44a77c7bcd40155683ae19c65e1c03b4aa3499c5328201f1"
            }
        }
    },
    "nbformat": 4,
    "nbformat_minor": 2
}
