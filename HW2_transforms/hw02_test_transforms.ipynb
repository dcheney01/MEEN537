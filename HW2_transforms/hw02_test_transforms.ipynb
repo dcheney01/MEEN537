{
    "cells": [
        {
            "cell_type": "code",
            "execution_count": 10,
            "metadata": {},
            "outputs": [],
            "source": [
                "import sys\n",
                "sys.path.append(\"/home/daniel/software/MEEN537/\")\n",
                "import transforms as tr\n",
                "import numpy as np"
            ]
        },
        {
            "cell_type": "markdown",
            "metadata": {},
            "source": [
                "## 2D rotation by 20 degrees\n",
                "\n",
                "A 2D rotation by 20 degrees should give the following:\n",
                "$$\n",
                "\\left[\\begin{array}{cc}\n",
                "0.9397 & -0.342\\\\\n",
                "0.342 & 0.9397\n",
                "\\end{array}\\right]\n",
                "$$"
            ]
        },
        {
            "cell_type": "code",
            "execution_count": 11,
            "metadata": {},
            "outputs": [
                {
                    "name": "stdout",
                    "output_type": "stream",
                    "text": [
                        "Define 2D Rotation with Angle = 20 degrees\n",
                        "[[ 0.93969262 -0.34202014]\n",
                        " [ 0.34202014  0.93969262]]\n"
                    ]
                }
            ],
            "source": [
                "print(\"Define 2D Rotation with Angle = 20 degrees\")\n",
                "R = tr.rot2(20.0/180.0*np.pi)\n",
                "print(R)"
            ]
        },
        {
            "cell_type": "markdown",
            "metadata": {},
            "source": [
                "## 2D rotation by 1.1 radians\n",
                "A 2D rotation by 1.1 radians should give the following:\n",
                "$$\n",
                "\\left[\\begin{array}{cc}\n",
                "0.4536 & -0.8912\\\\\n",
                "0.8912 & 0.4536\n",
                "\\end{array}\\right]\n",
                "$$"
            ]
        },
        {
            "cell_type": "code",
            "execution_count": 12,
            "metadata": {},
            "outputs": [
                {
                    "name": "stdout",
                    "output_type": "stream",
                    "text": [
                        "[[ 0.45359612 -0.89120736]\n",
                        " [ 0.89120736  0.45359612]]\n"
                    ]
                }
            ],
            "source": [
                "R = tr.rot2(1.1)\n",
                "print(R)"
            ]
        },
        {
            "cell_type": "markdown",
            "metadata": {},
            "source": [
                "## 3D rotations $R_x(30)$, $R_y(25)$, and $R_z(15)$   (all in degrees) \n",
                "\n",
                "Using the \"rotx\" function to make a 3D rotation about the x axis of 30 degrees, we get:\n",
                "$$\n",
                "\\left[\\begin{array}{ccc}\n",
                "1.0 & 0 & 0 \\\\\n",
                "0 & 0.866 & -0.5 \\\\\n",
                "0 & 0.5   & 0.866 \n",
                "\\end{array}\\right]\n",
                "$$\n",
                "\n",
                "Using the \"roty\" function to make a 3D rotation about the y axis of 25 degrees, we get:\n",
                "$$\n",
                "\\left[\\begin{array}{ccc}\n",
                "0.9063 & 0 & 0.4226 \\\\\n",
                "0 & 1.0 & 0\\\\\n",
                "-0.4226 & 0  & 0.9063 \n",
                "\\end{array}\\right]\n",
                "$$\n",
                "\n",
                "Using the \"rotz\" function to make a 3D rotation about the z axis of 15 degrees, we get:\n",
                "$$\n",
                "\\left[\\begin{array}{ccc}\n",
                "0.9659 & -0.2588 & 0 \\\\\n",
                "0.2588 & 0.9659 & 0 \\\\\n",
                "0 & 0 & 1.0\n",
                "\\end{array}\\right]\n",
                "$$"
            ]
        },
        {
            "cell_type": "code",
            "execution_count": 5,
            "metadata": {},
            "outputs": [
                {
                    "name": "stdout",
                    "output_type": "stream",
                    "text": [
                        "\n",
                        "Use rotx to make a 3D rotation about the x axis of 30 degrees\n",
                        "[[ 1.         0.         0.       ]\n",
                        " [ 0.         0.8660254 -0.5      ]\n",
                        " [ 0.         0.5        0.8660254]]\n",
                        "\n",
                        "Use roty to make a 3D rotation about the y axis of 25 degrees\n",
                        "[[ 0.90630779  0.          0.42261826]\n",
                        " [ 0.          1.          0.        ]\n",
                        " [-0.42261826  0.          0.90630779]]\n",
                        "\n",
                        "Use rotz to make a 3D rotation about the z axis of 15 degrees\n",
                        "[[ 0.96592583 -0.25881905  0.        ]\n",
                        " [ 0.25881905  0.96592583  0.        ]\n",
                        " [ 0.          0.          1.        ]]\n"
                    ]
                }
            ],
            "source": [
                "print(\"\\nUse rotx to make a 3D rotation about the x axis of 30 degrees\")\n",
                "R = tr.rotx(30.0/180.0*np.pi)\n",
                "print(R)\n",
                "\n",
                "print(\"\\nUse roty to make a 3D rotation about the y axis of 25 degrees\")\n",
                "R = tr.roty(25.0/180.0*np.pi)\n",
                "print(R)\n",
                "\n",
                "print(\"\\nUse rotz to make a 3D rotation about the z axis of 15 degrees\")\n",
                "R = tr.rotz(15.0/180.0*np.pi)\n",
                "print(R)"
            ]
        },
        {
            "cell_type": "markdown",
            "metadata": {},
            "source": [
                "## Composition of 3D rotations:\n",
                "\n",
                "Composing a 3D rotation about the x, y, and z axes as follows $R_x(10)*R_y(15)*R_z(20)$ (all in degrees), should give: \n",
                "$$\n",
                "\\left[\\begin{array}{ccc}\n",
                "0.9077 & -0.3304 & 0.2588 \\\\\n",
                "0.3791 & 0.91 & -0.1677 \\\\\n",
                "-0.1801 & 0.2504 & 0.9512 \n",
                "\\end{array}\\right]\n",
                "$$\n",
                "\n",
                "Finding the inverse of a rotation matrix, and multiplying it by the original rotation matrix, should result in the identity matrix:\n",
                "$$\n",
                "\\left[\\begin{array}{ccc}\n",
                "1.0 & 0 & 0 \\\\\n",
                "0 & 1.0 & 0 \\\\\n",
                "0 & 0 & 1.0\n",
                "\\end{array}\\right]\n",
                "$$"
            ]
        },
        {
            "cell_type": "code",
            "execution_count": 6,
            "metadata": {},
            "outputs": [
                {
                    "name": "stdout",
                    "output_type": "stream",
                    "text": [
                        "\n",
                        "Compose multiple rotations about the x, y, and z axes\n",
                        "[[ 0.90767337 -0.33036609  0.25881905]\n",
                        " [ 0.37905712  0.91004501 -0.16773126]\n",
                        " [-0.18012426  0.2503524   0.95125124]]\n",
                        "\n",
                        "Demonstrate that your implementation of the .inv() function returns the inverse of a rotation\n",
                        "[[1.00000000e+00 0.00000000e+00 0.00000000e+00]\n",
                        " [0.00000000e+00 1.00000000e+00 2.22218033e-17]\n",
                        " [0.00000000e+00 2.22218033e-17 1.00000000e+00]]\n",
                        "\n",
                        "\n"
                    ]
                }
            ],
            "source": [
                "print(\"\\nCompose multiple rotations about the x, y, and z axes\")\n",
                "R = tr.rotx(10/180.0*np.pi) @ tr.roty(15/180.0*np.pi) @ tr.rotz(20/180.0*np.pi)\n",
                "print(R)\n",
                "\n",
                "print(\"\\nDemonstrate that your implementation of the .inv() function returns the inverse of a rotation\")\n",
                "R = tr.rotx(20/180.0*np.pi)\n",
                "R = R @ tr.rot_inv(R)\n",
                "print(R)\n",
                "print(\"\\n\")"
            ]
        },
        {
            "cell_type": "markdown",
            "metadata": {},
            "source": [
                "## Checking commutativity:\n",
                "\n",
                "The previoius rotation described as $R_x(10)*R_y(15)*R_z(20)$ (all in degrees), gave the following: \n",
                "$$\n",
                "\\left[\\begin{array}{ccc}\n",
                "0.9077 & -0.3304 & 0.2588 \\\\\n",
                "0.3791 & 0.91 & -0.1677 \\\\\n",
                "-0.1801 & 0.2504 & 0.9512 \n",
                "\\end{array}\\right]\n",
                "$$\n",
                "\n",
                "Show that performing the operations in the opposite order does NOT give the same result. "
            ]
        },
        {
            "cell_type": "code",
            "execution_count": 7,
            "metadata": {},
            "outputs": [
                {
                    "name": "stdout",
                    "output_type": "stream",
                    "text": [
                        "\n",
                        "Rotation about current z, then y, then x axes:\n",
                        "[[ 0.90767337 -0.29459106  0.29890661]\n",
                        " [ 0.33036609  0.94078815 -0.07599942]\n",
                        " [-0.25881905  0.16773126  0.95125124]]\n"
                    ]
                }
            ],
            "source": [
                "print(\"\\nRotation about current z, then y, then x axes:\")\n",
                "R = tr.rotz(20/180.0*np.pi) @ tr.roty(15/180.0*np.pi) @ tr.rotx(10/180.0*np.pi)\n",
                "print(R)"
            ]
        },
        {
            "cell_type": "code",
            "execution_count": 8,
            "metadata": {},
            "outputs": [
                {
                    "name": "stdout",
                    "output_type": "stream",
                    "text": [
                        "[[-1.00000000e+00 -1.22464680e-16  0.00000000e+00]\n",
                        " [ 7.49879891e-33 -6.12323400e-17 -1.00000000e+00]\n",
                        " [ 1.22464680e-16 -1.00000000e+00  6.12323400e-17]]\n"
                    ]
                }
            ],
            "source": [
                "################# PROBLEM 4 ##############################\n",
                "R01 = tr.rotx(90/180.0*np.pi)\n",
                "R12 = tr.rotz(1.0*np.pi)\n",
                "R02 = R01 @ R12\n",
                "print(R02)"
            ]
        },
        {
            "cell_type": "code",
            "execution_count": 9,
            "metadata": {},
            "outputs": [
                {
                    "name": "stdout",
                    "output_type": "stream",
                    "text": [
                        "[[ 0.         0.        -1.       ]\n",
                        " [ 0.8660254  0.5        0.       ]\n",
                        " [ 0.5       -0.8660254  0.       ]]\n"
                    ]
                }
            ],
            "source": [
                "################# PROBLEM 6 ##############################\n",
                "R12 = np.array([[1, 0, 0],\n",
                "            [0, 0.5, -np.sqrt(3)/2],\n",
                "            [0, np.sqrt(3)/2, 0.5]])\n",
                "\n",
                "R13 = np.array([[0, 0, -1], [0,1,0], [1,0,0]])\n",
                "\n",
                "R23 = np.transpose(R12) @ R13\n",
                "print(R23)"
            ]
        },
        {
            "cell_type": "code",
            "execution_count": 10,
            "metadata": {},
            "outputs": [
                {
                    "data": {
                        "text/latex": [
                            "$\\displaystyle \\left[\\begin{matrix}- \\cos{\\left(2 \\phi \\right)} & 0.5 \\left(- \\cos{\\left(2 \\phi - th \\right)} + \\cos{\\left(2 \\phi + th \\right)}\\right) & 0.5 \\left(\\sin{\\left(2 \\phi - th \\right)} + \\sin{\\left(2 \\phi + th \\right)}\\right)\\\\0.5 \\left(- \\cos{\\left(2 \\phi - th \\right)} + \\cos{\\left(2 \\phi + th \\right)}\\right) & \\sin^{2}{\\left(th \\right)} \\cos{\\left(2 \\phi \\right)} - \\cos^{2}{\\left(th \\right)} & - 2 \\sin{\\left(th \\right)} \\cos^{2}{\\left(\\phi \\right)} \\cos{\\left(th \\right)}\\\\0.5 \\left(\\sin{\\left(2 \\phi - th \\right)} + \\sin{\\left(2 \\phi + th \\right)}\\right) & - 2 \\sin{\\left(th \\right)} \\cos^{2}{\\left(\\phi \\right)} \\cos{\\left(th \\right)} & 2 \\cos^{2}{\\left(\\phi \\right)} \\cos^{2}{\\left(th \\right)} - 1\\end{matrix}\\right]$"
                        ],
                        "text/plain": [
                            "⎡             -cos(2⋅φ)                0.5⋅(-cos(2⋅φ - th) + cos(2⋅φ + th))  0\n",
                            "⎢                                                                             \n",
                            "⎢                                             2                   2           \n",
                            "⎢0.5⋅(-cos(2⋅φ - th) + cos(2⋅φ + th))      sin (th)⋅cos(2⋅φ) - cos (th)       \n",
                            "⎢                                                                             \n",
                            "⎢                                                         2                   \n",
                            "⎣0.5⋅(sin(2⋅φ - th) + sin(2⋅φ + th))        -2⋅sin(th)⋅cos (φ)⋅cos(th)        \n",
                            "\n",
                            ".5⋅(sin(2⋅φ - th) + sin(2⋅φ + th))⎤\n",
                            "                                  ⎥\n",
                            "                 2                ⎥\n",
                            "   -2⋅sin(th)⋅cos (φ)⋅cos(th)     ⎥\n",
                            "                                  ⎥\n",
                            "          2       2               ⎥\n",
                            "     2⋅cos (φ)⋅cos (th) - 1       ⎦"
                        ]
                    },
                    "metadata": {},
                    "output_type": "display_data"
                }
            ],
            "source": [
                "################# PROBLEM 7 ##############################\n",
                "import sympy as sp\n",
                "from sympy import cos, sin\n",
                "from sympy import init_printing\n",
                "from IPython.display import Math, display\n",
                "init_printing(use_latex=True)\n",
                "\n",
                "th, phi, d = sp.symbols('th, phi, d')\n",
                "Rxth = sp.Matrix([ [1, 0,       0],\n",
                "                  [0, cos(th), -sin(th)],\n",
                "                  [0, sin(th), cos(th)]])\n",
                "\n",
                "\n",
                "Ryphi = sp.Matrix([[cos(phi), 0,       sin(phi)],\n",
                "                  [0,       1,       0],\n",
                "                  [-sin(phi),0,       cos(phi)]])\n",
                "\n",
                "\n",
                "Rzpi = sp.Matrix([[cos(sp.pi), -sin(sp.pi), 0],\n",
                "                  [sin(sp.pi), cos(sp.pi),  0],\n",
                "                  [0,       0,        1]])\n",
                "\n",
                "\n",
                "Ry_negphi = sp.Matrix([[cos(-phi), 0,       sin(-phi)],\n",
                "                        [0,       1,       0],\n",
                "                        [-sin(-phi),0,       cos(-phi)]])\n",
                "\n",
                "\n",
                "Rx_negth = sp.Matrix([ [1, 0,       0],\n",
                "                       [0, cos(-th), -sin(-th)],\n",
                "                       [0, sin(-th), cos(-th)]])\n",
                "\n",
                "R_final = Rxth @ Ryphi @ Rzpi @ Ry_negphi @ Rx_negth\n",
                "# sp.pprint(R_final)\n",
                "display(sp.trigsimp(sp.simplify(R_final.evalf())))"
            ]
        },
        {
            "cell_type": "markdown",
            "metadata": {},
            "source": [
                "## Animating a Coordinate Frame\n",
                "\n",
                "We can implement and test the code for problem 9 here:"
            ]
        },
        {
            "cell_type": "code",
            "execution_count": 9,
            "metadata": {},
            "outputs": [],
            "source": [
                "import time\n",
                "from visualization import VizScene \n",
                "import numpy as np\n",
                "\n",
                "Tw_to_frame1 = np.array([[1, 0,  0,  1],\n",
                "                         [0, 0, -1,  0],\n",
                "                         [0, 1,  0,  0],\n",
                "                         [0, 0,  0,  1]])\n",
                "                         \n",
                "viz = VizScene()\n",
                "viz.add_frame(np.eye(4), label='world')\n",
                "viz.add_frame(Tw_to_frame1, label='frame1')\n",
                "\n",
                "time_to_run = 20\n",
                "refresh_rate = 2\n",
                "for i in range(refresh_rate * time_to_run):\n",
                "    Tw_to_frame1 = np.array([[np.cos(np.pi/2*i), -np.sin(np.pi/2*i),  0,  1],\n",
                "                         [np.sin(np.pi/2*i), np.cos(np.pi/2*i), 0,  0],\n",
                "                         [0, 0,  1,  0],\n",
                "                         [0, 0,  0,  1]])\n",
                "    viz.update(As=[np.eye(4), Tw_to_frame1])\n",
                "    time.sleep(1.0/refresh_rate)\n",
                "    \n",
                "viz.close_viz()"
            ]
        }
    ],
    "metadata": {
        "kernelspec": {
            "display_name": "Python 3",
            "language": "python",
            "name": "python3"
        },
        "language_info": {
            "codemirror_mode": {
                "name": "ipython",
                "version": 3
            },
            "file_extension": ".py",
            "mimetype": "text/x-python",
            "name": "python",
            "nbconvert_exporter": "python",
            "pygments_lexer": "ipython3",
            "version": "3.8.10"
        },
        "orig_nbformat": 4,
        "vscode": {
            "interpreter": {
                "hash": "916dbcbb3f70747c44a77c7bcd40155683ae19c65e1c03b4aa3499c5328201f1"
            }
        }
    },
    "nbformat": 4,
    "nbformat_minor": 2
}
