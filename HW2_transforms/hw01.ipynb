{
    "cells": [
        {
            "cell_type": "markdown",
            "metadata": {},
            "source": [
                "# HW 1: Introduction and Setup\n",
                "* Copy this file, and the file \"visualization.py\" from Learning Suite into \"/home/controls/robotics_hw/\"\n",
                "* Run this notebook and check the output\n",
                "* If things are set up correctly, you should see two coordinate frames appear in a new window.\n",
                "* Play with these values a little to start to get some intuition for what these matrices mean.  "
            ]
        },
        {
            "cell_type": "code",
            "execution_count": 1,
            "metadata": {},
            "outputs": [
                {
                    "name": "stderr",
                    "output_type": "stream",
                    "text": [
                        "WARNING:root:autolab_core not installed as catkin package, RigidTransform ros methods will be unavailable\n"
                    ]
                },
                {
                    "ename": "ImportError",
                    "evalue": "cannot import name 'VizScene' from 'visualization' (c:\\Users\\danie\\anaconda3\\envs\\pyt37\\lib\\site-packages\\visualization\\__init__.py)",
                    "output_type": "error",
                    "traceback": [
                        "\u001b[1;31m---------------------------------------------------------------------------\u001b[0m",
                        "\u001b[1;31mImportError\u001b[0m                               Traceback (most recent call last)",
                        "\u001b[1;32m~\\AppData\\Local\\Temp/ipykernel_7708/4137017604.py\u001b[0m in \u001b[0;36m<module>\u001b[1;34m\u001b[0m\n\u001b[0;32m      2\u001b[0m \u001b[1;32mimport\u001b[0m \u001b[0mnumpy\u001b[0m \u001b[1;32mas\u001b[0m \u001b[0mnp\u001b[0m\u001b[1;33m\u001b[0m\u001b[1;33m\u001b[0m\u001b[0m\n\u001b[0;32m      3\u001b[0m \u001b[1;32mimport\u001b[0m \u001b[0mtime\u001b[0m\u001b[1;33m\u001b[0m\u001b[1;33m\u001b[0m\u001b[0m\n\u001b[1;32m----> 4\u001b[1;33m \u001b[1;32mfrom\u001b[0m \u001b[0mvisualization\u001b[0m \u001b[1;32mimport\u001b[0m \u001b[0mVizScene\u001b[0m\u001b[1;33m\u001b[0m\u001b[1;33m\u001b[0m\u001b[0m\n\u001b[0m\u001b[0;32m      5\u001b[0m \u001b[1;33m\u001b[0m\u001b[0m\n\u001b[0;32m      6\u001b[0m Tw_to_frame1 = np.array([[1, 0,  0,  1],\n",
                        "\u001b[1;31mImportError\u001b[0m: cannot import name 'VizScene' from 'visualization' (c:\\Users\\danie\\anaconda3\\envs\\pyt37\\lib\\site-packages\\visualization\\__init__.py)"
                    ]
                }
            ],
            "source": [
                "# this cell will fail if you haven't correctly copied the visualization.py file from Learning Suite\n",
                "import numpy as np\n",
                "import time\n",
                "from visualization import VizScene \n",
                "\n",
                "Tw_to_frame1 = np.array([[1, 0,  0,  1],\n",
                "                         [0, 0, -1,  0],\n",
                "                         [0, 1,  0,  0],\n",
                "                         [0, 0,  0,  1]])\n",
                "                         \n",
                "viz = VizScene()\n",
                "viz.add_frame(np.eye(4), label='world')\n",
                "viz.add_frame(Tw_to_frame1, label='frame1')\n",
                "\n",
                "time_to_run = 10\n",
                "refresh_rate = 60\n",
                "for i in range(refresh_rate * time_to_run):\n",
                "    viz.update()\n",
                "    time.sleep(1.0/refresh_rate)\n",
                "    \n",
                "viz.close_viz()\n"
            ]
        }
    ],
    "metadata": {
        "kernelspec": {
            "display_name": "pyt37",
            "language": "python",
            "name": "python3"
        },
        "language_info": {
            "codemirror_mode": {
                "name": "ipython",
                "version": 3
            },
            "file_extension": ".py",
            "mimetype": "text/x-python",
            "name": "python",
            "nbconvert_exporter": "python",
            "pygments_lexer": "ipython3",
            "version": "3.7.11"
        },
        "orig_nbformat": 4,
        "vscode": {
            "interpreter": {
                "hash": "69e3d768710f0a184c29e98d125782cd2b931de38965008191db5552bf80cd38"
            }
        }
    },
    "nbformat": 4,
    "nbformat_minor": 2
}
