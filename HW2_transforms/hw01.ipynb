{
    "cells": [
        {
            "cell_type": "code",
            "execution_count": null,
            "metadata": {},
            "outputs": [],
            "source": [
                "import sys\n",
                "sys.path.append(\"/home/daniel/software/MEEN537/\")\n",
                "\n",
                "import numpy as np\n",
                "import time\n",
                "from visualization import VizScene \n",
                "\n",
                "Tw_to_frame1 = np.array([[1, 0,  0,  1],\n",
                "                         [0, 0, -1,  0],\n",
                "                         [0, 1,  0,  0],\n",
                "                         [0, 0,  0,  1]])\n",
                "                         \n",
                "viz = VizScene()\n",
                "viz.add_frame(np.eye(4), label='world')\n",
                "viz.add_frame(Tw_to_frame1, label='frame1')\n",
                "\n",
                "time_to_run = 10\n",
                "refresh_rate = 60\n",
                "for i in range(refresh_rate * time_to_run):\n",
                "    viz.update()\n",
                "    time.sleep(1.0/refresh_rate)\n",
                "    \n",
                "viz.close_viz()"
            ]
        }
    ],
    "metadata": {
        "kernelspec": {
            "display_name": "Python 3",
            "language": "python",
            "name": "python3"
        },
        "language_info": {
            "codemirror_mode": {
                "name": "ipython",
                "version": 3
            },
            "file_extension": ".py",
            "mimetype": "text/x-python",
            "name": "python",
            "nbconvert_exporter": "python",
            "pygments_lexer": "ipython3",
            "version": "3.8.10"
        },
        "orig_nbformat": 4,
        "vscode": {
            "interpreter": {
                "hash": "916dbcbb3f70747c44a77c7bcd40155683ae19c65e1c03b4aa3499c5328201f1"
            }
        }
    },
    "nbformat": 4,
    "nbformat_minor": 2
}
