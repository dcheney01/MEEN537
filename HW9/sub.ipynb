{
 "cells": [
  {
   "cell_type": "code",
   "execution_count": 1,
   "metadata": {},
   "outputs": [
    {
     "name": "stdout",
     "output_type": "stream",
     "text": [
      "[[1 0 0]\n",
      " [0 0 0]\n",
      " [0 0 0]]\n",
      "[[1 0 0]\n",
      " [0 1 0]\n",
      " [0 0 0]]\n",
      "[[1 0 0]\n",
      " [0 1 0]\n",
      " [0 0 1]]\n"
     ]
    }
   ],
   "source": [
    "import numpy as np\n",
    "\n",
    "Jv1 = np.array([[0,0,0],\n",
    "                [0,0,0],\n",
    "                [1,0,0]])\n",
    "\n",
    "Jv2 = np.array([[0,0,0],\n",
    "                [0,1,0],\n",
    "                [1,0,0]])\n",
    "\n",
    "Jv3 = np.array([[0,0,1],\n",
    "                [0,1,0],\n",
    "                [1,0,0]])\n",
    "\n",
    "print(Jv1.T@Jv1)\n",
    "print(Jv2.T@Jv2)\n",
    "print(Jv3.T@Jv3)"
   ]
  }
 ],
 "metadata": {
  "kernelspec": {
   "display_name": "Python 3.7.11 ('pyt37')",
   "language": "python",
   "name": "python3"
  },
  "language_info": {
   "codemirror_mode": {
    "name": "ipython",
    "version": 3
   },
   "file_extension": ".py",
   "mimetype": "text/x-python",
   "name": "python",
   "nbconvert_exporter": "python",
   "pygments_lexer": "ipython3",
   "version": "3.7.11"
  },
  "orig_nbformat": 4,
  "vscode": {
   "interpreter": {
    "hash": "69e3d768710f0a184c29e98d125782cd2b931de38965008191db5552bf80cd38"
   }
  }
 },
 "nbformat": 4,
 "nbformat_minor": 2
}
